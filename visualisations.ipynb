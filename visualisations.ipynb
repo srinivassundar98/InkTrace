{
 "cells": [
  {
   "cell_type": "markdown",
   "metadata": {},
   "source": [
    "Visualization of N-gram Frequencies"
   ]
  },
  {
   "cell_type": "code",
   "execution_count": 3,
   "metadata": {},
   "outputs": [
    {
     "data": {
      "application/vnd.plotly.v1+json": {
       "config": {
        "plotlyServerURL": "https://plot.ly"
       },
       "data": [
        {
         "alignmentgroup": "True",
         "hovertemplate": "N-gram=%{x}<br>Frequency=%{marker.color}<extra></extra>",
         "legendgroup": "",
         "marker": {
          "color": [
           7744,
           2565,
           1885,
           1688,
           1468,
           1169,
           1148,
           1054,
           1051,
           1046,
           975,
           959,
           932,
           926,
           841,
           785,
           741,
           730,
           728,
           662,
           612,
           595,
           576,
           573,
           572
          ],
          "coloraxis": "coloraxis",
          "pattern": {
           "shape": ""
          }
         },
         "name": "",
         "offsetgroup": "",
         "orientation": "v",
         "showlegend": false,
         "textposition": "auto",
         "type": "bar",
         "x": [
          "trump",
          "say",
          "new",
          "report",
          "win",
          "people",
          "gop",
          "past",
          "dem",
          "state",
          "house",
          "lead",
          "watch",
          "clinton",
          "white",
          "poll",
          "star",
          "year",
          "episode",
          "help",
          "man",
          "attack",
          "russia",
          "late",
          "game"
         ],
         "xaxis": "x",
         "y": [
          7744,
          2565,
          1885,
          1688,
          1468,
          1169,
          1148,
          1054,
          1051,
          1046,
          975,
          959,
          932,
          926,
          841,
          785,
          741,
          730,
          728,
          662,
          612,
          595,
          576,
          573,
          572
         ],
         "yaxis": "y"
        }
       ],
       "layout": {
        "barmode": "relative",
        "coloraxis": {
         "colorbar": {
          "title": {
           "text": "Frequency"
          }
         },
         "colorscale": [
          [
           0,
           "#440154"
          ],
          [
           0.1111111111111111,
           "#482878"
          ],
          [
           0.2222222222222222,
           "#3e4989"
          ],
          [
           0.3333333333333333,
           "#31688e"
          ],
          [
           0.4444444444444444,
           "#26828e"
          ],
          [
           0.5555555555555556,
           "#1f9e89"
          ],
          [
           0.6666666666666666,
           "#35b779"
          ],
          [
           0.7777777777777778,
           "#6ece58"
          ],
          [
           0.8888888888888888,
           "#b5de2b"
          ],
          [
           1,
           "#fde725"
          ]
         ]
        },
        "legend": {
         "tracegroupgap": 0
        },
        "template": {
         "data": {
          "bar": [
           {
            "error_x": {
             "color": "#f2f5fa"
            },
            "error_y": {
             "color": "#f2f5fa"
            },
            "marker": {
             "line": {
              "color": "rgb(17,17,17)",
              "width": 0.5
             },
             "pattern": {
              "fillmode": "overlay",
              "size": 10,
              "solidity": 0.2
             }
            },
            "type": "bar"
           }
          ],
          "barpolar": [
           {
            "marker": {
             "line": {
              "color": "rgb(17,17,17)",
              "width": 0.5
             },
             "pattern": {
              "fillmode": "overlay",
              "size": 10,
              "solidity": 0.2
             }
            },
            "type": "barpolar"
           }
          ],
          "carpet": [
           {
            "aaxis": {
             "endlinecolor": "#A2B1C6",
             "gridcolor": "#506784",
             "linecolor": "#506784",
             "minorgridcolor": "#506784",
             "startlinecolor": "#A2B1C6"
            },
            "baxis": {
             "endlinecolor": "#A2B1C6",
             "gridcolor": "#506784",
             "linecolor": "#506784",
             "minorgridcolor": "#506784",
             "startlinecolor": "#A2B1C6"
            },
            "type": "carpet"
           }
          ],
          "choropleth": [
           {
            "colorbar": {
             "outlinewidth": 0,
             "ticks": ""
            },
            "type": "choropleth"
           }
          ],
          "contour": [
           {
            "colorbar": {
             "outlinewidth": 0,
             "ticks": ""
            },
            "colorscale": [
             [
              0,
              "#0d0887"
             ],
             [
              0.1111111111111111,
              "#46039f"
             ],
             [
              0.2222222222222222,
              "#7201a8"
             ],
             [
              0.3333333333333333,
              "#9c179e"
             ],
             [
              0.4444444444444444,
              "#bd3786"
             ],
             [
              0.5555555555555556,
              "#d8576b"
             ],
             [
              0.6666666666666666,
              "#ed7953"
             ],
             [
              0.7777777777777778,
              "#fb9f3a"
             ],
             [
              0.8888888888888888,
              "#fdca26"
             ],
             [
              1,
              "#f0f921"
             ]
            ],
            "type": "contour"
           }
          ],
          "contourcarpet": [
           {
            "colorbar": {
             "outlinewidth": 0,
             "ticks": ""
            },
            "type": "contourcarpet"
           }
          ],
          "heatmap": [
           {
            "colorbar": {
             "outlinewidth": 0,
             "ticks": ""
            },
            "colorscale": [
             [
              0,
              "#0d0887"
             ],
             [
              0.1111111111111111,
              "#46039f"
             ],
             [
              0.2222222222222222,
              "#7201a8"
             ],
             [
              0.3333333333333333,
              "#9c179e"
             ],
             [
              0.4444444444444444,
              "#bd3786"
             ],
             [
              0.5555555555555556,
              "#d8576b"
             ],
             [
              0.6666666666666666,
              "#ed7953"
             ],
             [
              0.7777777777777778,
              "#fb9f3a"
             ],
             [
              0.8888888888888888,
              "#fdca26"
             ],
             [
              1,
              "#f0f921"
             ]
            ],
            "type": "heatmap"
           }
          ],
          "heatmapgl": [
           {
            "colorbar": {
             "outlinewidth": 0,
             "ticks": ""
            },
            "colorscale": [
             [
              0,
              "#0d0887"
             ],
             [
              0.1111111111111111,
              "#46039f"
             ],
             [
              0.2222222222222222,
              "#7201a8"
             ],
             [
              0.3333333333333333,
              "#9c179e"
             ],
             [
              0.4444444444444444,
              "#bd3786"
             ],
             [
              0.5555555555555556,
              "#d8576b"
             ],
             [
              0.6666666666666666,
              "#ed7953"
             ],
             [
              0.7777777777777778,
              "#fb9f3a"
             ],
             [
              0.8888888888888888,
              "#fdca26"
             ],
             [
              1,
              "#f0f921"
             ]
            ],
            "type": "heatmapgl"
           }
          ],
          "histogram": [
           {
            "marker": {
             "pattern": {
              "fillmode": "overlay",
              "size": 10,
              "solidity": 0.2
             }
            },
            "type": "histogram"
           }
          ],
          "histogram2d": [
           {
            "colorbar": {
             "outlinewidth": 0,
             "ticks": ""
            },
            "colorscale": [
             [
              0,
              "#0d0887"
             ],
             [
              0.1111111111111111,
              "#46039f"
             ],
             [
              0.2222222222222222,
              "#7201a8"
             ],
             [
              0.3333333333333333,
              "#9c179e"
             ],
             [
              0.4444444444444444,
              "#bd3786"
             ],
             [
              0.5555555555555556,
              "#d8576b"
             ],
             [
              0.6666666666666666,
              "#ed7953"
             ],
             [
              0.7777777777777778,
              "#fb9f3a"
             ],
             [
              0.8888888888888888,
              "#fdca26"
             ],
             [
              1,
              "#f0f921"
             ]
            ],
            "type": "histogram2d"
           }
          ],
          "histogram2dcontour": [
           {
            "colorbar": {
             "outlinewidth": 0,
             "ticks": ""
            },
            "colorscale": [
             [
              0,
              "#0d0887"
             ],
             [
              0.1111111111111111,
              "#46039f"
             ],
             [
              0.2222222222222222,
              "#7201a8"
             ],
             [
              0.3333333333333333,
              "#9c179e"
             ],
             [
              0.4444444444444444,
              "#bd3786"
             ],
             [
              0.5555555555555556,
              "#d8576b"
             ],
             [
              0.6666666666666666,
              "#ed7953"
             ],
             [
              0.7777777777777778,
              "#fb9f3a"
             ],
             [
              0.8888888888888888,
              "#fdca26"
             ],
             [
              1,
              "#f0f921"
             ]
            ],
            "type": "histogram2dcontour"
           }
          ],
          "mesh3d": [
           {
            "colorbar": {
             "outlinewidth": 0,
             "ticks": ""
            },
            "type": "mesh3d"
           }
          ],
          "parcoords": [
           {
            "line": {
             "colorbar": {
              "outlinewidth": 0,
              "ticks": ""
             }
            },
            "type": "parcoords"
           }
          ],
          "pie": [
           {
            "automargin": true,
            "type": "pie"
           }
          ],
          "scatter": [
           {
            "marker": {
             "line": {
              "color": "#283442"
             }
            },
            "type": "scatter"
           }
          ],
          "scatter3d": [
           {
            "line": {
             "colorbar": {
              "outlinewidth": 0,
              "ticks": ""
             }
            },
            "marker": {
             "colorbar": {
              "outlinewidth": 0,
              "ticks": ""
             }
            },
            "type": "scatter3d"
           }
          ],
          "scattercarpet": [
           {
            "marker": {
             "colorbar": {
              "outlinewidth": 0,
              "ticks": ""
             }
            },
            "type": "scattercarpet"
           }
          ],
          "scattergeo": [
           {
            "marker": {
             "colorbar": {
              "outlinewidth": 0,
              "ticks": ""
             }
            },
            "type": "scattergeo"
           }
          ],
          "scattergl": [
           {
            "marker": {
             "line": {
              "color": "#283442"
             }
            },
            "type": "scattergl"
           }
          ],
          "scattermapbox": [
           {
            "marker": {
             "colorbar": {
              "outlinewidth": 0,
              "ticks": ""
             }
            },
            "type": "scattermapbox"
           }
          ],
          "scatterpolar": [
           {
            "marker": {
             "colorbar": {
              "outlinewidth": 0,
              "ticks": ""
             }
            },
            "type": "scatterpolar"
           }
          ],
          "scatterpolargl": [
           {
            "marker": {
             "colorbar": {
              "outlinewidth": 0,
              "ticks": ""
             }
            },
            "type": "scatterpolargl"
           }
          ],
          "scatterternary": [
           {
            "marker": {
             "colorbar": {
              "outlinewidth": 0,
              "ticks": ""
             }
            },
            "type": "scatterternary"
           }
          ],
          "surface": [
           {
            "colorbar": {
             "outlinewidth": 0,
             "ticks": ""
            },
            "colorscale": [
             [
              0,
              "#0d0887"
             ],
             [
              0.1111111111111111,
              "#46039f"
             ],
             [
              0.2222222222222222,
              "#7201a8"
             ],
             [
              0.3333333333333333,
              "#9c179e"
             ],
             [
              0.4444444444444444,
              "#bd3786"
             ],
             [
              0.5555555555555556,
              "#d8576b"
             ],
             [
              0.6666666666666666,
              "#ed7953"
             ],
             [
              0.7777777777777778,
              "#fb9f3a"
             ],
             [
              0.8888888888888888,
              "#fdca26"
             ],
             [
              1,
              "#f0f921"
             ]
            ],
            "type": "surface"
           }
          ],
          "table": [
           {
            "cells": {
             "fill": {
              "color": "#506784"
             },
             "line": {
              "color": "rgb(17,17,17)"
             }
            },
            "header": {
             "fill": {
              "color": "#2a3f5f"
             },
             "line": {
              "color": "rgb(17,17,17)"
             }
            },
            "type": "table"
           }
          ]
         },
         "layout": {
          "annotationdefaults": {
           "arrowcolor": "#f2f5fa",
           "arrowhead": 0,
           "arrowwidth": 1
          },
          "autotypenumbers": "strict",
          "coloraxis": {
           "colorbar": {
            "outlinewidth": 0,
            "ticks": ""
           }
          },
          "colorscale": {
           "diverging": [
            [
             0,
             "#8e0152"
            ],
            [
             0.1,
             "#c51b7d"
            ],
            [
             0.2,
             "#de77ae"
            ],
            [
             0.3,
             "#f1b6da"
            ],
            [
             0.4,
             "#fde0ef"
            ],
            [
             0.5,
             "#f7f7f7"
            ],
            [
             0.6,
             "#e6f5d0"
            ],
            [
             0.7,
             "#b8e186"
            ],
            [
             0.8,
             "#7fbc41"
            ],
            [
             0.9,
             "#4d9221"
            ],
            [
             1,
             "#276419"
            ]
           ],
           "sequential": [
            [
             0,
             "#0d0887"
            ],
            [
             0.1111111111111111,
             "#46039f"
            ],
            [
             0.2222222222222222,
             "#7201a8"
            ],
            [
             0.3333333333333333,
             "#9c179e"
            ],
            [
             0.4444444444444444,
             "#bd3786"
            ],
            [
             0.5555555555555556,
             "#d8576b"
            ],
            [
             0.6666666666666666,
             "#ed7953"
            ],
            [
             0.7777777777777778,
             "#fb9f3a"
            ],
            [
             0.8888888888888888,
             "#fdca26"
            ],
            [
             1,
             "#f0f921"
            ]
           ],
           "sequentialminus": [
            [
             0,
             "#0d0887"
            ],
            [
             0.1111111111111111,
             "#46039f"
            ],
            [
             0.2222222222222222,
             "#7201a8"
            ],
            [
             0.3333333333333333,
             "#9c179e"
            ],
            [
             0.4444444444444444,
             "#bd3786"
            ],
            [
             0.5555555555555556,
             "#d8576b"
            ],
            [
             0.6666666666666666,
             "#ed7953"
            ],
            [
             0.7777777777777778,
             "#fb9f3a"
            ],
            [
             0.8888888888888888,
             "#fdca26"
            ],
            [
             1,
             "#f0f921"
            ]
           ]
          },
          "colorway": [
           "#636efa",
           "#EF553B",
           "#00cc96",
           "#ab63fa",
           "#FFA15A",
           "#19d3f3",
           "#FF6692",
           "#B6E880",
           "#FF97FF",
           "#FECB52"
          ],
          "font": {
           "color": "#f2f5fa"
          },
          "geo": {
           "bgcolor": "rgb(17,17,17)",
           "lakecolor": "rgb(17,17,17)",
           "landcolor": "rgb(17,17,17)",
           "showlakes": true,
           "showland": true,
           "subunitcolor": "#506784"
          },
          "hoverlabel": {
           "align": "left"
          },
          "hovermode": "closest",
          "mapbox": {
           "style": "dark"
          },
          "paper_bgcolor": "rgb(17,17,17)",
          "plot_bgcolor": "rgb(17,17,17)",
          "polar": {
           "angularaxis": {
            "gridcolor": "#506784",
            "linecolor": "#506784",
            "ticks": ""
           },
           "bgcolor": "rgb(17,17,17)",
           "radialaxis": {
            "gridcolor": "#506784",
            "linecolor": "#506784",
            "ticks": ""
           }
          },
          "scene": {
           "xaxis": {
            "backgroundcolor": "rgb(17,17,17)",
            "gridcolor": "#506784",
            "gridwidth": 2,
            "linecolor": "#506784",
            "showbackground": true,
            "ticks": "",
            "zerolinecolor": "#C8D4E3"
           },
           "yaxis": {
            "backgroundcolor": "rgb(17,17,17)",
            "gridcolor": "#506784",
            "gridwidth": 2,
            "linecolor": "#506784",
            "showbackground": true,
            "ticks": "",
            "zerolinecolor": "#C8D4E3"
           },
           "zaxis": {
            "backgroundcolor": "rgb(17,17,17)",
            "gridcolor": "#506784",
            "gridwidth": 2,
            "linecolor": "#506784",
            "showbackground": true,
            "ticks": "",
            "zerolinecolor": "#C8D4E3"
           }
          },
          "shapedefaults": {
           "line": {
            "color": "#f2f5fa"
           }
          },
          "sliderdefaults": {
           "bgcolor": "#C8D4E3",
           "bordercolor": "rgb(17,17,17)",
           "borderwidth": 1,
           "tickwidth": 0
          },
          "ternary": {
           "aaxis": {
            "gridcolor": "#506784",
            "linecolor": "#506784",
            "ticks": ""
           },
           "baxis": {
            "gridcolor": "#506784",
            "linecolor": "#506784",
            "ticks": ""
           },
           "bgcolor": "rgb(17,17,17)",
           "caxis": {
            "gridcolor": "#506784",
            "linecolor": "#506784",
            "ticks": ""
           }
          },
          "title": {
           "x": 0.05
          },
          "updatemenudefaults": {
           "bgcolor": "#506784",
           "borderwidth": 0
          },
          "xaxis": {
           "automargin": true,
           "gridcolor": "#283442",
           "linecolor": "#506784",
           "ticks": "",
           "title": {
            "standoff": 15
           },
           "zerolinecolor": "#283442",
           "zerolinewidth": 2
          },
          "yaxis": {
           "automargin": true,
           "gridcolor": "#283442",
           "linecolor": "#506784",
           "ticks": "",
           "title": {
            "standoff": 15
           },
           "zerolinecolor": "#283442",
           "zerolinewidth": 2
          }
         }
        },
        "title": {
         "text": "Top 25 Uni-grams"
        },
        "xaxis": {
         "anchor": "y",
         "domain": [
          0,
          1
         ],
         "title": {
          "text": "N-gram"
         }
        },
        "yaxis": {
         "anchor": "x",
         "domain": [
          0,
          1
         ],
         "title": {
          "text": "Frequency"
         }
        }
       }
      }
     },
     "metadata": {},
     "output_type": "display_data"
    },
    {
     "data": {
      "application/vnd.plotly.v1+json": {
       "config": {
        "plotlyServerURL": "https://plot.ly"
       },
       "data": [
        {
         "alignmentgroup": "True",
         "hovertemplate": "N-gram=%{x}<br>Frequency=%{marker.color}<extra></extra>",
         "legendgroup": "",
         "marker": {
          "color": [
           550,
           409,
           370,
           356,
           302,
           245,
           204,
           199,
           157,
           140,
           134,
           130,
           127,
           125,
           125,
           124,
           122,
           119,
           117,
           115,
           113,
           112,
           111,
           109,
           109
          ],
          "coloraxis": "coloraxis",
          "pattern": {
           "shape": ""
          }
         },
         "name": "",
         "offsetgroup": "",
         "orientation": "v",
         "showlegend": false,
         "textposition": "auto",
         "type": "bar",
         "x": [
          "white house",
          "trump thehill",
          "episode people",
          "north korea",
          "watch episode",
          "pollster say",
          "donald trump",
          "new york",
          "say trump",
          "red sox",
          "white sox",
          "gop senator",
          "dem pollster",
          "trump tweet",
          "puerto rico",
          "year old",
          "gop rep",
          "poll thehill",
          "trump jr",
          "supreme court",
          "gop lawmaker",
          "pollster thehill",
          "gop pollster",
          "trump say",
          "attack thehill"
         ],
         "xaxis": "x",
         "y": [
          550,
          409,
          370,
          356,
          302,
          245,
          204,
          199,
          157,
          140,
          134,
          130,
          127,
          125,
          125,
          124,
          122,
          119,
          117,
          115,
          113,
          112,
          111,
          109,
          109
         ],
         "yaxis": "y"
        }
       ],
       "layout": {
        "barmode": "relative",
        "coloraxis": {
         "colorbar": {
          "title": {
           "text": "Frequency"
          }
         },
         "colorscale": [
          [
           0,
           "#440154"
          ],
          [
           0.1111111111111111,
           "#482878"
          ],
          [
           0.2222222222222222,
           "#3e4989"
          ],
          [
           0.3333333333333333,
           "#31688e"
          ],
          [
           0.4444444444444444,
           "#26828e"
          ],
          [
           0.5555555555555556,
           "#1f9e89"
          ],
          [
           0.6666666666666666,
           "#35b779"
          ],
          [
           0.7777777777777778,
           "#6ece58"
          ],
          [
           0.8888888888888888,
           "#b5de2b"
          ],
          [
           1,
           "#fde725"
          ]
         ]
        },
        "legend": {
         "tracegroupgap": 0
        },
        "template": {
         "data": {
          "bar": [
           {
            "error_x": {
             "color": "#f2f5fa"
            },
            "error_y": {
             "color": "#f2f5fa"
            },
            "marker": {
             "line": {
              "color": "rgb(17,17,17)",
              "width": 0.5
             },
             "pattern": {
              "fillmode": "overlay",
              "size": 10,
              "solidity": 0.2
             }
            },
            "type": "bar"
           }
          ],
          "barpolar": [
           {
            "marker": {
             "line": {
              "color": "rgb(17,17,17)",
              "width": 0.5
             },
             "pattern": {
              "fillmode": "overlay",
              "size": 10,
              "solidity": 0.2
             }
            },
            "type": "barpolar"
           }
          ],
          "carpet": [
           {
            "aaxis": {
             "endlinecolor": "#A2B1C6",
             "gridcolor": "#506784",
             "linecolor": "#506784",
             "minorgridcolor": "#506784",
             "startlinecolor": "#A2B1C6"
            },
            "baxis": {
             "endlinecolor": "#A2B1C6",
             "gridcolor": "#506784",
             "linecolor": "#506784",
             "minorgridcolor": "#506784",
             "startlinecolor": "#A2B1C6"
            },
            "type": "carpet"
           }
          ],
          "choropleth": [
           {
            "colorbar": {
             "outlinewidth": 0,
             "ticks": ""
            },
            "type": "choropleth"
           }
          ],
          "contour": [
           {
            "colorbar": {
             "outlinewidth": 0,
             "ticks": ""
            },
            "colorscale": [
             [
              0,
              "#0d0887"
             ],
             [
              0.1111111111111111,
              "#46039f"
             ],
             [
              0.2222222222222222,
              "#7201a8"
             ],
             [
              0.3333333333333333,
              "#9c179e"
             ],
             [
              0.4444444444444444,
              "#bd3786"
             ],
             [
              0.5555555555555556,
              "#d8576b"
             ],
             [
              0.6666666666666666,
              "#ed7953"
             ],
             [
              0.7777777777777778,
              "#fb9f3a"
             ],
             [
              0.8888888888888888,
              "#fdca26"
             ],
             [
              1,
              "#f0f921"
             ]
            ],
            "type": "contour"
           }
          ],
          "contourcarpet": [
           {
            "colorbar": {
             "outlinewidth": 0,
             "ticks": ""
            },
            "type": "contourcarpet"
           }
          ],
          "heatmap": [
           {
            "colorbar": {
             "outlinewidth": 0,
             "ticks": ""
            },
            "colorscale": [
             [
              0,
              "#0d0887"
             ],
             [
              0.1111111111111111,
              "#46039f"
             ],
             [
              0.2222222222222222,
              "#7201a8"
             ],
             [
              0.3333333333333333,
              "#9c179e"
             ],
             [
              0.4444444444444444,
              "#bd3786"
             ],
             [
              0.5555555555555556,
              "#d8576b"
             ],
             [
              0.6666666666666666,
              "#ed7953"
             ],
             [
              0.7777777777777778,
              "#fb9f3a"
             ],
             [
              0.8888888888888888,
              "#fdca26"
             ],
             [
              1,
              "#f0f921"
             ]
            ],
            "type": "heatmap"
           }
          ],
          "heatmapgl": [
           {
            "colorbar": {
             "outlinewidth": 0,
             "ticks": ""
            },
            "colorscale": [
             [
              0,
              "#0d0887"
             ],
             [
              0.1111111111111111,
              "#46039f"
             ],
             [
              0.2222222222222222,
              "#7201a8"
             ],
             [
              0.3333333333333333,
              "#9c179e"
             ],
             [
              0.4444444444444444,
              "#bd3786"
             ],
             [
              0.5555555555555556,
              "#d8576b"
             ],
             [
              0.6666666666666666,
              "#ed7953"
             ],
             [
              0.7777777777777778,
              "#fb9f3a"
             ],
             [
              0.8888888888888888,
              "#fdca26"
             ],
             [
              1,
              "#f0f921"
             ]
            ],
            "type": "heatmapgl"
           }
          ],
          "histogram": [
           {
            "marker": {
             "pattern": {
              "fillmode": "overlay",
              "size": 10,
              "solidity": 0.2
             }
            },
            "type": "histogram"
           }
          ],
          "histogram2d": [
           {
            "colorbar": {
             "outlinewidth": 0,
             "ticks": ""
            },
            "colorscale": [
             [
              0,
              "#0d0887"
             ],
             [
              0.1111111111111111,
              "#46039f"
             ],
             [
              0.2222222222222222,
              "#7201a8"
             ],
             [
              0.3333333333333333,
              "#9c179e"
             ],
             [
              0.4444444444444444,
              "#bd3786"
             ],
             [
              0.5555555555555556,
              "#d8576b"
             ],
             [
              0.6666666666666666,
              "#ed7953"
             ],
             [
              0.7777777777777778,
              "#fb9f3a"
             ],
             [
              0.8888888888888888,
              "#fdca26"
             ],
             [
              1,
              "#f0f921"
             ]
            ],
            "type": "histogram2d"
           }
          ],
          "histogram2dcontour": [
           {
            "colorbar": {
             "outlinewidth": 0,
             "ticks": ""
            },
            "colorscale": [
             [
              0,
              "#0d0887"
             ],
             [
              0.1111111111111111,
              "#46039f"
             ],
             [
              0.2222222222222222,
              "#7201a8"
             ],
             [
              0.3333333333333333,
              "#9c179e"
             ],
             [
              0.4444444444444444,
              "#bd3786"
             ],
             [
              0.5555555555555556,
              "#d8576b"
             ],
             [
              0.6666666666666666,
              "#ed7953"
             ],
             [
              0.7777777777777778,
              "#fb9f3a"
             ],
             [
              0.8888888888888888,
              "#fdca26"
             ],
             [
              1,
              "#f0f921"
             ]
            ],
            "type": "histogram2dcontour"
           }
          ],
          "mesh3d": [
           {
            "colorbar": {
             "outlinewidth": 0,
             "ticks": ""
            },
            "type": "mesh3d"
           }
          ],
          "parcoords": [
           {
            "line": {
             "colorbar": {
              "outlinewidth": 0,
              "ticks": ""
             }
            },
            "type": "parcoords"
           }
          ],
          "pie": [
           {
            "automargin": true,
            "type": "pie"
           }
          ],
          "scatter": [
           {
            "marker": {
             "line": {
              "color": "#283442"
             }
            },
            "type": "scatter"
           }
          ],
          "scatter3d": [
           {
            "line": {
             "colorbar": {
              "outlinewidth": 0,
              "ticks": ""
             }
            },
            "marker": {
             "colorbar": {
              "outlinewidth": 0,
              "ticks": ""
             }
            },
            "type": "scatter3d"
           }
          ],
          "scattercarpet": [
           {
            "marker": {
             "colorbar": {
              "outlinewidth": 0,
              "ticks": ""
             }
            },
            "type": "scattercarpet"
           }
          ],
          "scattergeo": [
           {
            "marker": {
             "colorbar": {
              "outlinewidth": 0,
              "ticks": ""
             }
            },
            "type": "scattergeo"
           }
          ],
          "scattergl": [
           {
            "marker": {
             "line": {
              "color": "#283442"
             }
            },
            "type": "scattergl"
           }
          ],
          "scattermapbox": [
           {
            "marker": {
             "colorbar": {
              "outlinewidth": 0,
              "ticks": ""
             }
            },
            "type": "scattermapbox"
           }
          ],
          "scatterpolar": [
           {
            "marker": {
             "colorbar": {
              "outlinewidth": 0,
              "ticks": ""
             }
            },
            "type": "scatterpolar"
           }
          ],
          "scatterpolargl": [
           {
            "marker": {
             "colorbar": {
              "outlinewidth": 0,
              "ticks": ""
             }
            },
            "type": "scatterpolargl"
           }
          ],
          "scatterternary": [
           {
            "marker": {
             "colorbar": {
              "outlinewidth": 0,
              "ticks": ""
             }
            },
            "type": "scatterternary"
           }
          ],
          "surface": [
           {
            "colorbar": {
             "outlinewidth": 0,
             "ticks": ""
            },
            "colorscale": [
             [
              0,
              "#0d0887"
             ],
             [
              0.1111111111111111,
              "#46039f"
             ],
             [
              0.2222222222222222,
              "#7201a8"
             ],
             [
              0.3333333333333333,
              "#9c179e"
             ],
             [
              0.4444444444444444,
              "#bd3786"
             ],
             [
              0.5555555555555556,
              "#d8576b"
             ],
             [
              0.6666666666666666,
              "#ed7953"
             ],
             [
              0.7777777777777778,
              "#fb9f3a"
             ],
             [
              0.8888888888888888,
              "#fdca26"
             ],
             [
              1,
              "#f0f921"
             ]
            ],
            "type": "surface"
           }
          ],
          "table": [
           {
            "cells": {
             "fill": {
              "color": "#506784"
             },
             "line": {
              "color": "rgb(17,17,17)"
             }
            },
            "header": {
             "fill": {
              "color": "#2a3f5f"
             },
             "line": {
              "color": "rgb(17,17,17)"
             }
            },
            "type": "table"
           }
          ]
         },
         "layout": {
          "annotationdefaults": {
           "arrowcolor": "#f2f5fa",
           "arrowhead": 0,
           "arrowwidth": 1
          },
          "autotypenumbers": "strict",
          "coloraxis": {
           "colorbar": {
            "outlinewidth": 0,
            "ticks": ""
           }
          },
          "colorscale": {
           "diverging": [
            [
             0,
             "#8e0152"
            ],
            [
             0.1,
             "#c51b7d"
            ],
            [
             0.2,
             "#de77ae"
            ],
            [
             0.3,
             "#f1b6da"
            ],
            [
             0.4,
             "#fde0ef"
            ],
            [
             0.5,
             "#f7f7f7"
            ],
            [
             0.6,
             "#e6f5d0"
            ],
            [
             0.7,
             "#b8e186"
            ],
            [
             0.8,
             "#7fbc41"
            ],
            [
             0.9,
             "#4d9221"
            ],
            [
             1,
             "#276419"
            ]
           ],
           "sequential": [
            [
             0,
             "#0d0887"
            ],
            [
             0.1111111111111111,
             "#46039f"
            ],
            [
             0.2222222222222222,
             "#7201a8"
            ],
            [
             0.3333333333333333,
             "#9c179e"
            ],
            [
             0.4444444444444444,
             "#bd3786"
            ],
            [
             0.5555555555555556,
             "#d8576b"
            ],
            [
             0.6666666666666666,
             "#ed7953"
            ],
            [
             0.7777777777777778,
             "#fb9f3a"
            ],
            [
             0.8888888888888888,
             "#fdca26"
            ],
            [
             1,
             "#f0f921"
            ]
           ],
           "sequentialminus": [
            [
             0,
             "#0d0887"
            ],
            [
             0.1111111111111111,
             "#46039f"
            ],
            [
             0.2222222222222222,
             "#7201a8"
            ],
            [
             0.3333333333333333,
             "#9c179e"
            ],
            [
             0.4444444444444444,
             "#bd3786"
            ],
            [
             0.5555555555555556,
             "#d8576b"
            ],
            [
             0.6666666666666666,
             "#ed7953"
            ],
            [
             0.7777777777777778,
             "#fb9f3a"
            ],
            [
             0.8888888888888888,
             "#fdca26"
            ],
            [
             1,
             "#f0f921"
            ]
           ]
          },
          "colorway": [
           "#636efa",
           "#EF553B",
           "#00cc96",
           "#ab63fa",
           "#FFA15A",
           "#19d3f3",
           "#FF6692",
           "#B6E880",
           "#FF97FF",
           "#FECB52"
          ],
          "font": {
           "color": "#f2f5fa"
          },
          "geo": {
           "bgcolor": "rgb(17,17,17)",
           "lakecolor": "rgb(17,17,17)",
           "landcolor": "rgb(17,17,17)",
           "showlakes": true,
           "showland": true,
           "subunitcolor": "#506784"
          },
          "hoverlabel": {
           "align": "left"
          },
          "hovermode": "closest",
          "mapbox": {
           "style": "dark"
          },
          "paper_bgcolor": "rgb(17,17,17)",
          "plot_bgcolor": "rgb(17,17,17)",
          "polar": {
           "angularaxis": {
            "gridcolor": "#506784",
            "linecolor": "#506784",
            "ticks": ""
           },
           "bgcolor": "rgb(17,17,17)",
           "radialaxis": {
            "gridcolor": "#506784",
            "linecolor": "#506784",
            "ticks": ""
           }
          },
          "scene": {
           "xaxis": {
            "backgroundcolor": "rgb(17,17,17)",
            "gridcolor": "#506784",
            "gridwidth": 2,
            "linecolor": "#506784",
            "showbackground": true,
            "ticks": "",
            "zerolinecolor": "#C8D4E3"
           },
           "yaxis": {
            "backgroundcolor": "rgb(17,17,17)",
            "gridcolor": "#506784",
            "gridwidth": 2,
            "linecolor": "#506784",
            "showbackground": true,
            "ticks": "",
            "zerolinecolor": "#C8D4E3"
           },
           "zaxis": {
            "backgroundcolor": "rgb(17,17,17)",
            "gridcolor": "#506784",
            "gridwidth": 2,
            "linecolor": "#506784",
            "showbackground": true,
            "ticks": "",
            "zerolinecolor": "#C8D4E3"
           }
          },
          "shapedefaults": {
           "line": {
            "color": "#f2f5fa"
           }
          },
          "sliderdefaults": {
           "bgcolor": "#C8D4E3",
           "bordercolor": "rgb(17,17,17)",
           "borderwidth": 1,
           "tickwidth": 0
          },
          "ternary": {
           "aaxis": {
            "gridcolor": "#506784",
            "linecolor": "#506784",
            "ticks": ""
           },
           "baxis": {
            "gridcolor": "#506784",
            "linecolor": "#506784",
            "ticks": ""
           },
           "bgcolor": "rgb(17,17,17)",
           "caxis": {
            "gridcolor": "#506784",
            "linecolor": "#506784",
            "ticks": ""
           }
          },
          "title": {
           "x": 0.05
          },
          "updatemenudefaults": {
           "bgcolor": "#506784",
           "borderwidth": 0
          },
          "xaxis": {
           "automargin": true,
           "gridcolor": "#283442",
           "linecolor": "#506784",
           "ticks": "",
           "title": {
            "standoff": 15
           },
           "zerolinecolor": "#283442",
           "zerolinewidth": 2
          },
          "yaxis": {
           "automargin": true,
           "gridcolor": "#283442",
           "linecolor": "#506784",
           "ticks": "",
           "title": {
            "standoff": 15
           },
           "zerolinecolor": "#283442",
           "zerolinewidth": 2
          }
         }
        },
        "title": {
         "text": "Top 25 Bi-grams"
        },
        "xaxis": {
         "anchor": "y",
         "domain": [
          0,
          1
         ],
         "title": {
          "text": "N-gram"
         }
        },
        "yaxis": {
         "anchor": "x",
         "domain": [
          0,
          1
         ],
         "title": {
          "text": "Frequency"
         }
        }
       }
      }
     },
     "metadata": {},
     "output_type": "display_data"
    },
    {
     "data": {
      "application/vnd.plotly.v1+json": {
       "config": {
        "plotlyServerURL": "https://plot.ly"
       },
       "data": [
        {
         "alignmentgroup": "True",
         "hovertemplate": "N-gram=%{x}<br>Frequency=%{marker.color}<extra></extra>",
         "legendgroup": "",
         "marker": {
          "color": [
           82,
           81,
           77,
           74,
           73,
           67,
           65,
           62,
           60,
           55,
           43,
           41,
           38,
           37,
           37,
           36,
           36,
           33,
           33,
           32,
           32,
           32,
           31,
           31,
           29
          ],
          "coloraxis": "coloraxis",
          "pattern": {
           "shape": ""
          }
         },
         "name": "",
         "offsetgroup": "",
         "orientation": "v",
         "showlegend": false,
         "textposition": "auto",
         "type": "bar",
         "x": [
          "say pollster thehill",
          "episode people wednesday",
          "episode people thursday",
          "episode people tuesday",
          "episode people friday",
          "white house thehill",
          "dem pollster say",
          "episode people monday",
          "gop pollster say",
          "north korea thehill",
          "russia probe thehill",
          "space photos week",
          "people watch episode",
          "kim kardashian west",
          "kim zolciak biermann",
          "trump approval rating",
          "new york city",
          "george hw bush",
          "hill tv poll",
          "trump white house",
          "donald trump jr",
          "wall st closes",
          "new york times",
          "security news week",
          "lin manuel miranda"
         ],
         "xaxis": "x",
         "y": [
          82,
          81,
          77,
          74,
          73,
          67,
          65,
          62,
          60,
          55,
          43,
          41,
          38,
          37,
          37,
          36,
          36,
          33,
          33,
          32,
          32,
          32,
          31,
          31,
          29
         ],
         "yaxis": "y"
        }
       ],
       "layout": {
        "barmode": "relative",
        "coloraxis": {
         "colorbar": {
          "title": {
           "text": "Frequency"
          }
         },
         "colorscale": [
          [
           0,
           "#440154"
          ],
          [
           0.1111111111111111,
           "#482878"
          ],
          [
           0.2222222222222222,
           "#3e4989"
          ],
          [
           0.3333333333333333,
           "#31688e"
          ],
          [
           0.4444444444444444,
           "#26828e"
          ],
          [
           0.5555555555555556,
           "#1f9e89"
          ],
          [
           0.6666666666666666,
           "#35b779"
          ],
          [
           0.7777777777777778,
           "#6ece58"
          ],
          [
           0.8888888888888888,
           "#b5de2b"
          ],
          [
           1,
           "#fde725"
          ]
         ]
        },
        "legend": {
         "tracegroupgap": 0
        },
        "template": {
         "data": {
          "bar": [
           {
            "error_x": {
             "color": "#f2f5fa"
            },
            "error_y": {
             "color": "#f2f5fa"
            },
            "marker": {
             "line": {
              "color": "rgb(17,17,17)",
              "width": 0.5
             },
             "pattern": {
              "fillmode": "overlay",
              "size": 10,
              "solidity": 0.2
             }
            },
            "type": "bar"
           }
          ],
          "barpolar": [
           {
            "marker": {
             "line": {
              "color": "rgb(17,17,17)",
              "width": 0.5
             },
             "pattern": {
              "fillmode": "overlay",
              "size": 10,
              "solidity": 0.2
             }
            },
            "type": "barpolar"
           }
          ],
          "carpet": [
           {
            "aaxis": {
             "endlinecolor": "#A2B1C6",
             "gridcolor": "#506784",
             "linecolor": "#506784",
             "minorgridcolor": "#506784",
             "startlinecolor": "#A2B1C6"
            },
            "baxis": {
             "endlinecolor": "#A2B1C6",
             "gridcolor": "#506784",
             "linecolor": "#506784",
             "minorgridcolor": "#506784",
             "startlinecolor": "#A2B1C6"
            },
            "type": "carpet"
           }
          ],
          "choropleth": [
           {
            "colorbar": {
             "outlinewidth": 0,
             "ticks": ""
            },
            "type": "choropleth"
           }
          ],
          "contour": [
           {
            "colorbar": {
             "outlinewidth": 0,
             "ticks": ""
            },
            "colorscale": [
             [
              0,
              "#0d0887"
             ],
             [
              0.1111111111111111,
              "#46039f"
             ],
             [
              0.2222222222222222,
              "#7201a8"
             ],
             [
              0.3333333333333333,
              "#9c179e"
             ],
             [
              0.4444444444444444,
              "#bd3786"
             ],
             [
              0.5555555555555556,
              "#d8576b"
             ],
             [
              0.6666666666666666,
              "#ed7953"
             ],
             [
              0.7777777777777778,
              "#fb9f3a"
             ],
             [
              0.8888888888888888,
              "#fdca26"
             ],
             [
              1,
              "#f0f921"
             ]
            ],
            "type": "contour"
           }
          ],
          "contourcarpet": [
           {
            "colorbar": {
             "outlinewidth": 0,
             "ticks": ""
            },
            "type": "contourcarpet"
           }
          ],
          "heatmap": [
           {
            "colorbar": {
             "outlinewidth": 0,
             "ticks": ""
            },
            "colorscale": [
             [
              0,
              "#0d0887"
             ],
             [
              0.1111111111111111,
              "#46039f"
             ],
             [
              0.2222222222222222,
              "#7201a8"
             ],
             [
              0.3333333333333333,
              "#9c179e"
             ],
             [
              0.4444444444444444,
              "#bd3786"
             ],
             [
              0.5555555555555556,
              "#d8576b"
             ],
             [
              0.6666666666666666,
              "#ed7953"
             ],
             [
              0.7777777777777778,
              "#fb9f3a"
             ],
             [
              0.8888888888888888,
              "#fdca26"
             ],
             [
              1,
              "#f0f921"
             ]
            ],
            "type": "heatmap"
           }
          ],
          "heatmapgl": [
           {
            "colorbar": {
             "outlinewidth": 0,
             "ticks": ""
            },
            "colorscale": [
             [
              0,
              "#0d0887"
             ],
             [
              0.1111111111111111,
              "#46039f"
             ],
             [
              0.2222222222222222,
              "#7201a8"
             ],
             [
              0.3333333333333333,
              "#9c179e"
             ],
             [
              0.4444444444444444,
              "#bd3786"
             ],
             [
              0.5555555555555556,
              "#d8576b"
             ],
             [
              0.6666666666666666,
              "#ed7953"
             ],
             [
              0.7777777777777778,
              "#fb9f3a"
             ],
             [
              0.8888888888888888,
              "#fdca26"
             ],
             [
              1,
              "#f0f921"
             ]
            ],
            "type": "heatmapgl"
           }
          ],
          "histogram": [
           {
            "marker": {
             "pattern": {
              "fillmode": "overlay",
              "size": 10,
              "solidity": 0.2
             }
            },
            "type": "histogram"
           }
          ],
          "histogram2d": [
           {
            "colorbar": {
             "outlinewidth": 0,
             "ticks": ""
            },
            "colorscale": [
             [
              0,
              "#0d0887"
             ],
             [
              0.1111111111111111,
              "#46039f"
             ],
             [
              0.2222222222222222,
              "#7201a8"
             ],
             [
              0.3333333333333333,
              "#9c179e"
             ],
             [
              0.4444444444444444,
              "#bd3786"
             ],
             [
              0.5555555555555556,
              "#d8576b"
             ],
             [
              0.6666666666666666,
              "#ed7953"
             ],
             [
              0.7777777777777778,
              "#fb9f3a"
             ],
             [
              0.8888888888888888,
              "#fdca26"
             ],
             [
              1,
              "#f0f921"
             ]
            ],
            "type": "histogram2d"
           }
          ],
          "histogram2dcontour": [
           {
            "colorbar": {
             "outlinewidth": 0,
             "ticks": ""
            },
            "colorscale": [
             [
              0,
              "#0d0887"
             ],
             [
              0.1111111111111111,
              "#46039f"
             ],
             [
              0.2222222222222222,
              "#7201a8"
             ],
             [
              0.3333333333333333,
              "#9c179e"
             ],
             [
              0.4444444444444444,
              "#bd3786"
             ],
             [
              0.5555555555555556,
              "#d8576b"
             ],
             [
              0.6666666666666666,
              "#ed7953"
             ],
             [
              0.7777777777777778,
              "#fb9f3a"
             ],
             [
              0.8888888888888888,
              "#fdca26"
             ],
             [
              1,
              "#f0f921"
             ]
            ],
            "type": "histogram2dcontour"
           }
          ],
          "mesh3d": [
           {
            "colorbar": {
             "outlinewidth": 0,
             "ticks": ""
            },
            "type": "mesh3d"
           }
          ],
          "parcoords": [
           {
            "line": {
             "colorbar": {
              "outlinewidth": 0,
              "ticks": ""
             }
            },
            "type": "parcoords"
           }
          ],
          "pie": [
           {
            "automargin": true,
            "type": "pie"
           }
          ],
          "scatter": [
           {
            "marker": {
             "line": {
              "color": "#283442"
             }
            },
            "type": "scatter"
           }
          ],
          "scatter3d": [
           {
            "line": {
             "colorbar": {
              "outlinewidth": 0,
              "ticks": ""
             }
            },
            "marker": {
             "colorbar": {
              "outlinewidth": 0,
              "ticks": ""
             }
            },
            "type": "scatter3d"
           }
          ],
          "scattercarpet": [
           {
            "marker": {
             "colorbar": {
              "outlinewidth": 0,
              "ticks": ""
             }
            },
            "type": "scattercarpet"
           }
          ],
          "scattergeo": [
           {
            "marker": {
             "colorbar": {
              "outlinewidth": 0,
              "ticks": ""
             }
            },
            "type": "scattergeo"
           }
          ],
          "scattergl": [
           {
            "marker": {
             "line": {
              "color": "#283442"
             }
            },
            "type": "scattergl"
           }
          ],
          "scattermapbox": [
           {
            "marker": {
             "colorbar": {
              "outlinewidth": 0,
              "ticks": ""
             }
            },
            "type": "scattermapbox"
           }
          ],
          "scatterpolar": [
           {
            "marker": {
             "colorbar": {
              "outlinewidth": 0,
              "ticks": ""
             }
            },
            "type": "scatterpolar"
           }
          ],
          "scatterpolargl": [
           {
            "marker": {
             "colorbar": {
              "outlinewidth": 0,
              "ticks": ""
             }
            },
            "type": "scatterpolargl"
           }
          ],
          "scatterternary": [
           {
            "marker": {
             "colorbar": {
              "outlinewidth": 0,
              "ticks": ""
             }
            },
            "type": "scatterternary"
           }
          ],
          "surface": [
           {
            "colorbar": {
             "outlinewidth": 0,
             "ticks": ""
            },
            "colorscale": [
             [
              0,
              "#0d0887"
             ],
             [
              0.1111111111111111,
              "#46039f"
             ],
             [
              0.2222222222222222,
              "#7201a8"
             ],
             [
              0.3333333333333333,
              "#9c179e"
             ],
             [
              0.4444444444444444,
              "#bd3786"
             ],
             [
              0.5555555555555556,
              "#d8576b"
             ],
             [
              0.6666666666666666,
              "#ed7953"
             ],
             [
              0.7777777777777778,
              "#fb9f3a"
             ],
             [
              0.8888888888888888,
              "#fdca26"
             ],
             [
              1,
              "#f0f921"
             ]
            ],
            "type": "surface"
           }
          ],
          "table": [
           {
            "cells": {
             "fill": {
              "color": "#506784"
             },
             "line": {
              "color": "rgb(17,17,17)"
             }
            },
            "header": {
             "fill": {
              "color": "#2a3f5f"
             },
             "line": {
              "color": "rgb(17,17,17)"
             }
            },
            "type": "table"
           }
          ]
         },
         "layout": {
          "annotationdefaults": {
           "arrowcolor": "#f2f5fa",
           "arrowhead": 0,
           "arrowwidth": 1
          },
          "autotypenumbers": "strict",
          "coloraxis": {
           "colorbar": {
            "outlinewidth": 0,
            "ticks": ""
           }
          },
          "colorscale": {
           "diverging": [
            [
             0,
             "#8e0152"
            ],
            [
             0.1,
             "#c51b7d"
            ],
            [
             0.2,
             "#de77ae"
            ],
            [
             0.3,
             "#f1b6da"
            ],
            [
             0.4,
             "#fde0ef"
            ],
            [
             0.5,
             "#f7f7f7"
            ],
            [
             0.6,
             "#e6f5d0"
            ],
            [
             0.7,
             "#b8e186"
            ],
            [
             0.8,
             "#7fbc41"
            ],
            [
             0.9,
             "#4d9221"
            ],
            [
             1,
             "#276419"
            ]
           ],
           "sequential": [
            [
             0,
             "#0d0887"
            ],
            [
             0.1111111111111111,
             "#46039f"
            ],
            [
             0.2222222222222222,
             "#7201a8"
            ],
            [
             0.3333333333333333,
             "#9c179e"
            ],
            [
             0.4444444444444444,
             "#bd3786"
            ],
            [
             0.5555555555555556,
             "#d8576b"
            ],
            [
             0.6666666666666666,
             "#ed7953"
            ],
            [
             0.7777777777777778,
             "#fb9f3a"
            ],
            [
             0.8888888888888888,
             "#fdca26"
            ],
            [
             1,
             "#f0f921"
            ]
           ],
           "sequentialminus": [
            [
             0,
             "#0d0887"
            ],
            [
             0.1111111111111111,
             "#46039f"
            ],
            [
             0.2222222222222222,
             "#7201a8"
            ],
            [
             0.3333333333333333,
             "#9c179e"
            ],
            [
             0.4444444444444444,
             "#bd3786"
            ],
            [
             0.5555555555555556,
             "#d8576b"
            ],
            [
             0.6666666666666666,
             "#ed7953"
            ],
            [
             0.7777777777777778,
             "#fb9f3a"
            ],
            [
             0.8888888888888888,
             "#fdca26"
            ],
            [
             1,
             "#f0f921"
            ]
           ]
          },
          "colorway": [
           "#636efa",
           "#EF553B",
           "#00cc96",
           "#ab63fa",
           "#FFA15A",
           "#19d3f3",
           "#FF6692",
           "#B6E880",
           "#FF97FF",
           "#FECB52"
          ],
          "font": {
           "color": "#f2f5fa"
          },
          "geo": {
           "bgcolor": "rgb(17,17,17)",
           "lakecolor": "rgb(17,17,17)",
           "landcolor": "rgb(17,17,17)",
           "showlakes": true,
           "showland": true,
           "subunitcolor": "#506784"
          },
          "hoverlabel": {
           "align": "left"
          },
          "hovermode": "closest",
          "mapbox": {
           "style": "dark"
          },
          "paper_bgcolor": "rgb(17,17,17)",
          "plot_bgcolor": "rgb(17,17,17)",
          "polar": {
           "angularaxis": {
            "gridcolor": "#506784",
            "linecolor": "#506784",
            "ticks": ""
           },
           "bgcolor": "rgb(17,17,17)",
           "radialaxis": {
            "gridcolor": "#506784",
            "linecolor": "#506784",
            "ticks": ""
           }
          },
          "scene": {
           "xaxis": {
            "backgroundcolor": "rgb(17,17,17)",
            "gridcolor": "#506784",
            "gridwidth": 2,
            "linecolor": "#506784",
            "showbackground": true,
            "ticks": "",
            "zerolinecolor": "#C8D4E3"
           },
           "yaxis": {
            "backgroundcolor": "rgb(17,17,17)",
            "gridcolor": "#506784",
            "gridwidth": 2,
            "linecolor": "#506784",
            "showbackground": true,
            "ticks": "",
            "zerolinecolor": "#C8D4E3"
           },
           "zaxis": {
            "backgroundcolor": "rgb(17,17,17)",
            "gridcolor": "#506784",
            "gridwidth": 2,
            "linecolor": "#506784",
            "showbackground": true,
            "ticks": "",
            "zerolinecolor": "#C8D4E3"
           }
          },
          "shapedefaults": {
           "line": {
            "color": "#f2f5fa"
           }
          },
          "sliderdefaults": {
           "bgcolor": "#C8D4E3",
           "bordercolor": "rgb(17,17,17)",
           "borderwidth": 1,
           "tickwidth": 0
          },
          "ternary": {
           "aaxis": {
            "gridcolor": "#506784",
            "linecolor": "#506784",
            "ticks": ""
           },
           "baxis": {
            "gridcolor": "#506784",
            "linecolor": "#506784",
            "ticks": ""
           },
           "bgcolor": "rgb(17,17,17)",
           "caxis": {
            "gridcolor": "#506784",
            "linecolor": "#506784",
            "ticks": ""
           }
          },
          "title": {
           "x": 0.05
          },
          "updatemenudefaults": {
           "bgcolor": "#506784",
           "borderwidth": 0
          },
          "xaxis": {
           "automargin": true,
           "gridcolor": "#283442",
           "linecolor": "#506784",
           "ticks": "",
           "title": {
            "standoff": 15
           },
           "zerolinecolor": "#283442",
           "zerolinewidth": 2
          },
          "yaxis": {
           "automargin": true,
           "gridcolor": "#283442",
           "linecolor": "#506784",
           "ticks": "",
           "title": {
            "standoff": 15
           },
           "zerolinecolor": "#283442",
           "zerolinewidth": 2
          }
         }
        },
        "title": {
         "text": "Top 25 Tri-grams"
        },
        "xaxis": {
         "anchor": "y",
         "domain": [
          0,
          1
         ],
         "title": {
          "text": "N-gram"
         }
        },
        "yaxis": {
         "anchor": "x",
         "domain": [
          0,
          1
         ],
         "title": {
          "text": "Frequency"
         }
        }
       }
      }
     },
     "metadata": {},
     "output_type": "display_data"
    },
    {
     "data": {
      "application/vnd.plotly.v1+json": {
       "config": {
        "plotlyServerURL": "https://plot.ly"
       },
       "data": [
        {
         "alignmentgroup": "True",
         "hovertemplate": "N-gram=%{x}<br>Frequency=%{marker.color}<extra></extra>",
         "legendgroup": "",
         "marker": {
          "color": [
           17,
           17,
           17,
           16,
           16,
           15,
           13,
           13,
           12,
           12,
           12,
           12,
           11,
           11,
           11,
           11,
           11,
           10,
           10,
           10,
           10,
           10,
           10,
           10,
           9
          ],
          "coloraxis": "coloraxis",
          "pattern": {
           "shape": ""
          }
         },
         "name": "",
         "offsetgroup": "",
         "orientation": "v",
         "showlegend": false,
         "textposition": "auto",
         "type": "bar",
         "x": [
          "justin bieber hailey baldwin",
          "prince harry meghan markle",
          "poll clinton point lead",
          "poll clinton lead trump",
          "say dem pollster thehill",
          "real housewives new york",
          "real housewives orange county",
          "russia probe report thehill",
          "angelina jolie brad pitt",
          "clinton point lead trump",
          "poll trump approval rating",
          "sexual misconduct allegation thehill",
          "kim kardashian kanye west",
          "point lead trump thehill",
          "say gop pollster thehill",
          "ex federal prosecutor say",
          "wall st closes low",
          "preview axio hbo interview",
          "real housewives new jersey",
          "episode people wednesday november",
          "clinton lead trump point",
          "say polling editor thehill",
          "say dem strategist thehill",
          "wall st closes high",
          "episode people wednesday march"
         ],
         "xaxis": "x",
         "y": [
          17,
          17,
          17,
          16,
          16,
          15,
          13,
          13,
          12,
          12,
          12,
          12,
          11,
          11,
          11,
          11,
          11,
          10,
          10,
          10,
          10,
          10,
          10,
          10,
          9
         ],
         "yaxis": "y"
        }
       ],
       "layout": {
        "barmode": "relative",
        "coloraxis": {
         "colorbar": {
          "title": {
           "text": "Frequency"
          }
         },
         "colorscale": [
          [
           0,
           "#440154"
          ],
          [
           0.1111111111111111,
           "#482878"
          ],
          [
           0.2222222222222222,
           "#3e4989"
          ],
          [
           0.3333333333333333,
           "#31688e"
          ],
          [
           0.4444444444444444,
           "#26828e"
          ],
          [
           0.5555555555555556,
           "#1f9e89"
          ],
          [
           0.6666666666666666,
           "#35b779"
          ],
          [
           0.7777777777777778,
           "#6ece58"
          ],
          [
           0.8888888888888888,
           "#b5de2b"
          ],
          [
           1,
           "#fde725"
          ]
         ]
        },
        "legend": {
         "tracegroupgap": 0
        },
        "template": {
         "data": {
          "bar": [
           {
            "error_x": {
             "color": "#f2f5fa"
            },
            "error_y": {
             "color": "#f2f5fa"
            },
            "marker": {
             "line": {
              "color": "rgb(17,17,17)",
              "width": 0.5
             },
             "pattern": {
              "fillmode": "overlay",
              "size": 10,
              "solidity": 0.2
             }
            },
            "type": "bar"
           }
          ],
          "barpolar": [
           {
            "marker": {
             "line": {
              "color": "rgb(17,17,17)",
              "width": 0.5
             },
             "pattern": {
              "fillmode": "overlay",
              "size": 10,
              "solidity": 0.2
             }
            },
            "type": "barpolar"
           }
          ],
          "carpet": [
           {
            "aaxis": {
             "endlinecolor": "#A2B1C6",
             "gridcolor": "#506784",
             "linecolor": "#506784",
             "minorgridcolor": "#506784",
             "startlinecolor": "#A2B1C6"
            },
            "baxis": {
             "endlinecolor": "#A2B1C6",
             "gridcolor": "#506784",
             "linecolor": "#506784",
             "minorgridcolor": "#506784",
             "startlinecolor": "#A2B1C6"
            },
            "type": "carpet"
           }
          ],
          "choropleth": [
           {
            "colorbar": {
             "outlinewidth": 0,
             "ticks": ""
            },
            "type": "choropleth"
           }
          ],
          "contour": [
           {
            "colorbar": {
             "outlinewidth": 0,
             "ticks": ""
            },
            "colorscale": [
             [
              0,
              "#0d0887"
             ],
             [
              0.1111111111111111,
              "#46039f"
             ],
             [
              0.2222222222222222,
              "#7201a8"
             ],
             [
              0.3333333333333333,
              "#9c179e"
             ],
             [
              0.4444444444444444,
              "#bd3786"
             ],
             [
              0.5555555555555556,
              "#d8576b"
             ],
             [
              0.6666666666666666,
              "#ed7953"
             ],
             [
              0.7777777777777778,
              "#fb9f3a"
             ],
             [
              0.8888888888888888,
              "#fdca26"
             ],
             [
              1,
              "#f0f921"
             ]
            ],
            "type": "contour"
           }
          ],
          "contourcarpet": [
           {
            "colorbar": {
             "outlinewidth": 0,
             "ticks": ""
            },
            "type": "contourcarpet"
           }
          ],
          "heatmap": [
           {
            "colorbar": {
             "outlinewidth": 0,
             "ticks": ""
            },
            "colorscale": [
             [
              0,
              "#0d0887"
             ],
             [
              0.1111111111111111,
              "#46039f"
             ],
             [
              0.2222222222222222,
              "#7201a8"
             ],
             [
              0.3333333333333333,
              "#9c179e"
             ],
             [
              0.4444444444444444,
              "#bd3786"
             ],
             [
              0.5555555555555556,
              "#d8576b"
             ],
             [
              0.6666666666666666,
              "#ed7953"
             ],
             [
              0.7777777777777778,
              "#fb9f3a"
             ],
             [
              0.8888888888888888,
              "#fdca26"
             ],
             [
              1,
              "#f0f921"
             ]
            ],
            "type": "heatmap"
           }
          ],
          "heatmapgl": [
           {
            "colorbar": {
             "outlinewidth": 0,
             "ticks": ""
            },
            "colorscale": [
             [
              0,
              "#0d0887"
             ],
             [
              0.1111111111111111,
              "#46039f"
             ],
             [
              0.2222222222222222,
              "#7201a8"
             ],
             [
              0.3333333333333333,
              "#9c179e"
             ],
             [
              0.4444444444444444,
              "#bd3786"
             ],
             [
              0.5555555555555556,
              "#d8576b"
             ],
             [
              0.6666666666666666,
              "#ed7953"
             ],
             [
              0.7777777777777778,
              "#fb9f3a"
             ],
             [
              0.8888888888888888,
              "#fdca26"
             ],
             [
              1,
              "#f0f921"
             ]
            ],
            "type": "heatmapgl"
           }
          ],
          "histogram": [
           {
            "marker": {
             "pattern": {
              "fillmode": "overlay",
              "size": 10,
              "solidity": 0.2
             }
            },
            "type": "histogram"
           }
          ],
          "histogram2d": [
           {
            "colorbar": {
             "outlinewidth": 0,
             "ticks": ""
            },
            "colorscale": [
             [
              0,
              "#0d0887"
             ],
             [
              0.1111111111111111,
              "#46039f"
             ],
             [
              0.2222222222222222,
              "#7201a8"
             ],
             [
              0.3333333333333333,
              "#9c179e"
             ],
             [
              0.4444444444444444,
              "#bd3786"
             ],
             [
              0.5555555555555556,
              "#d8576b"
             ],
             [
              0.6666666666666666,
              "#ed7953"
             ],
             [
              0.7777777777777778,
              "#fb9f3a"
             ],
             [
              0.8888888888888888,
              "#fdca26"
             ],
             [
              1,
              "#f0f921"
             ]
            ],
            "type": "histogram2d"
           }
          ],
          "histogram2dcontour": [
           {
            "colorbar": {
             "outlinewidth": 0,
             "ticks": ""
            },
            "colorscale": [
             [
              0,
              "#0d0887"
             ],
             [
              0.1111111111111111,
              "#46039f"
             ],
             [
              0.2222222222222222,
              "#7201a8"
             ],
             [
              0.3333333333333333,
              "#9c179e"
             ],
             [
              0.4444444444444444,
              "#bd3786"
             ],
             [
              0.5555555555555556,
              "#d8576b"
             ],
             [
              0.6666666666666666,
              "#ed7953"
             ],
             [
              0.7777777777777778,
              "#fb9f3a"
             ],
             [
              0.8888888888888888,
              "#fdca26"
             ],
             [
              1,
              "#f0f921"
             ]
            ],
            "type": "histogram2dcontour"
           }
          ],
          "mesh3d": [
           {
            "colorbar": {
             "outlinewidth": 0,
             "ticks": ""
            },
            "type": "mesh3d"
           }
          ],
          "parcoords": [
           {
            "line": {
             "colorbar": {
              "outlinewidth": 0,
              "ticks": ""
             }
            },
            "type": "parcoords"
           }
          ],
          "pie": [
           {
            "automargin": true,
            "type": "pie"
           }
          ],
          "scatter": [
           {
            "marker": {
             "line": {
              "color": "#283442"
             }
            },
            "type": "scatter"
           }
          ],
          "scatter3d": [
           {
            "line": {
             "colorbar": {
              "outlinewidth": 0,
              "ticks": ""
             }
            },
            "marker": {
             "colorbar": {
              "outlinewidth": 0,
              "ticks": ""
             }
            },
            "type": "scatter3d"
           }
          ],
          "scattercarpet": [
           {
            "marker": {
             "colorbar": {
              "outlinewidth": 0,
              "ticks": ""
             }
            },
            "type": "scattercarpet"
           }
          ],
          "scattergeo": [
           {
            "marker": {
             "colorbar": {
              "outlinewidth": 0,
              "ticks": ""
             }
            },
            "type": "scattergeo"
           }
          ],
          "scattergl": [
           {
            "marker": {
             "line": {
              "color": "#283442"
             }
            },
            "type": "scattergl"
           }
          ],
          "scattermapbox": [
           {
            "marker": {
             "colorbar": {
              "outlinewidth": 0,
              "ticks": ""
             }
            },
            "type": "scattermapbox"
           }
          ],
          "scatterpolar": [
           {
            "marker": {
             "colorbar": {
              "outlinewidth": 0,
              "ticks": ""
             }
            },
            "type": "scatterpolar"
           }
          ],
          "scatterpolargl": [
           {
            "marker": {
             "colorbar": {
              "outlinewidth": 0,
              "ticks": ""
             }
            },
            "type": "scatterpolargl"
           }
          ],
          "scatterternary": [
           {
            "marker": {
             "colorbar": {
              "outlinewidth": 0,
              "ticks": ""
             }
            },
            "type": "scatterternary"
           }
          ],
          "surface": [
           {
            "colorbar": {
             "outlinewidth": 0,
             "ticks": ""
            },
            "colorscale": [
             [
              0,
              "#0d0887"
             ],
             [
              0.1111111111111111,
              "#46039f"
             ],
             [
              0.2222222222222222,
              "#7201a8"
             ],
             [
              0.3333333333333333,
              "#9c179e"
             ],
             [
              0.4444444444444444,
              "#bd3786"
             ],
             [
              0.5555555555555556,
              "#d8576b"
             ],
             [
              0.6666666666666666,
              "#ed7953"
             ],
             [
              0.7777777777777778,
              "#fb9f3a"
             ],
             [
              0.8888888888888888,
              "#fdca26"
             ],
             [
              1,
              "#f0f921"
             ]
            ],
            "type": "surface"
           }
          ],
          "table": [
           {
            "cells": {
             "fill": {
              "color": "#506784"
             },
             "line": {
              "color": "rgb(17,17,17)"
             }
            },
            "header": {
             "fill": {
              "color": "#2a3f5f"
             },
             "line": {
              "color": "rgb(17,17,17)"
             }
            },
            "type": "table"
           }
          ]
         },
         "layout": {
          "annotationdefaults": {
           "arrowcolor": "#f2f5fa",
           "arrowhead": 0,
           "arrowwidth": 1
          },
          "autotypenumbers": "strict",
          "coloraxis": {
           "colorbar": {
            "outlinewidth": 0,
            "ticks": ""
           }
          },
          "colorscale": {
           "diverging": [
            [
             0,
             "#8e0152"
            ],
            [
             0.1,
             "#c51b7d"
            ],
            [
             0.2,
             "#de77ae"
            ],
            [
             0.3,
             "#f1b6da"
            ],
            [
             0.4,
             "#fde0ef"
            ],
            [
             0.5,
             "#f7f7f7"
            ],
            [
             0.6,
             "#e6f5d0"
            ],
            [
             0.7,
             "#b8e186"
            ],
            [
             0.8,
             "#7fbc41"
            ],
            [
             0.9,
             "#4d9221"
            ],
            [
             1,
             "#276419"
            ]
           ],
           "sequential": [
            [
             0,
             "#0d0887"
            ],
            [
             0.1111111111111111,
             "#46039f"
            ],
            [
             0.2222222222222222,
             "#7201a8"
            ],
            [
             0.3333333333333333,
             "#9c179e"
            ],
            [
             0.4444444444444444,
             "#bd3786"
            ],
            [
             0.5555555555555556,
             "#d8576b"
            ],
            [
             0.6666666666666666,
             "#ed7953"
            ],
            [
             0.7777777777777778,
             "#fb9f3a"
            ],
            [
             0.8888888888888888,
             "#fdca26"
            ],
            [
             1,
             "#f0f921"
            ]
           ],
           "sequentialminus": [
            [
             0,
             "#0d0887"
            ],
            [
             0.1111111111111111,
             "#46039f"
            ],
            [
             0.2222222222222222,
             "#7201a8"
            ],
            [
             0.3333333333333333,
             "#9c179e"
            ],
            [
             0.4444444444444444,
             "#bd3786"
            ],
            [
             0.5555555555555556,
             "#d8576b"
            ],
            [
             0.6666666666666666,
             "#ed7953"
            ],
            [
             0.7777777777777778,
             "#fb9f3a"
            ],
            [
             0.8888888888888888,
             "#fdca26"
            ],
            [
             1,
             "#f0f921"
            ]
           ]
          },
          "colorway": [
           "#636efa",
           "#EF553B",
           "#00cc96",
           "#ab63fa",
           "#FFA15A",
           "#19d3f3",
           "#FF6692",
           "#B6E880",
           "#FF97FF",
           "#FECB52"
          ],
          "font": {
           "color": "#f2f5fa"
          },
          "geo": {
           "bgcolor": "rgb(17,17,17)",
           "lakecolor": "rgb(17,17,17)",
           "landcolor": "rgb(17,17,17)",
           "showlakes": true,
           "showland": true,
           "subunitcolor": "#506784"
          },
          "hoverlabel": {
           "align": "left"
          },
          "hovermode": "closest",
          "mapbox": {
           "style": "dark"
          },
          "paper_bgcolor": "rgb(17,17,17)",
          "plot_bgcolor": "rgb(17,17,17)",
          "polar": {
           "angularaxis": {
            "gridcolor": "#506784",
            "linecolor": "#506784",
            "ticks": ""
           },
           "bgcolor": "rgb(17,17,17)",
           "radialaxis": {
            "gridcolor": "#506784",
            "linecolor": "#506784",
            "ticks": ""
           }
          },
          "scene": {
           "xaxis": {
            "backgroundcolor": "rgb(17,17,17)",
            "gridcolor": "#506784",
            "gridwidth": 2,
            "linecolor": "#506784",
            "showbackground": true,
            "ticks": "",
            "zerolinecolor": "#C8D4E3"
           },
           "yaxis": {
            "backgroundcolor": "rgb(17,17,17)",
            "gridcolor": "#506784",
            "gridwidth": 2,
            "linecolor": "#506784",
            "showbackground": true,
            "ticks": "",
            "zerolinecolor": "#C8D4E3"
           },
           "zaxis": {
            "backgroundcolor": "rgb(17,17,17)",
            "gridcolor": "#506784",
            "gridwidth": 2,
            "linecolor": "#506784",
            "showbackground": true,
            "ticks": "",
            "zerolinecolor": "#C8D4E3"
           }
          },
          "shapedefaults": {
           "line": {
            "color": "#f2f5fa"
           }
          },
          "sliderdefaults": {
           "bgcolor": "#C8D4E3",
           "bordercolor": "rgb(17,17,17)",
           "borderwidth": 1,
           "tickwidth": 0
          },
          "ternary": {
           "aaxis": {
            "gridcolor": "#506784",
            "linecolor": "#506784",
            "ticks": ""
           },
           "baxis": {
            "gridcolor": "#506784",
            "linecolor": "#506784",
            "ticks": ""
           },
           "bgcolor": "rgb(17,17,17)",
           "caxis": {
            "gridcolor": "#506784",
            "linecolor": "#506784",
            "ticks": ""
           }
          },
          "title": {
           "x": 0.05
          },
          "updatemenudefaults": {
           "bgcolor": "#506784",
           "borderwidth": 0
          },
          "xaxis": {
           "automargin": true,
           "gridcolor": "#283442",
           "linecolor": "#506784",
           "ticks": "",
           "title": {
            "standoff": 15
           },
           "zerolinecolor": "#283442",
           "zerolinewidth": 2
          },
          "yaxis": {
           "automargin": true,
           "gridcolor": "#283442",
           "linecolor": "#506784",
           "ticks": "",
           "title": {
            "standoff": 15
           },
           "zerolinecolor": "#283442",
           "zerolinewidth": 2
          }
         }
        },
        "title": {
         "text": "Top 25 Quad-grams"
        },
        "xaxis": {
         "anchor": "y",
         "domain": [
          0,
          1
         ],
         "title": {
          "text": "N-gram"
         }
        },
        "yaxis": {
         "anchor": "x",
         "domain": [
          0,
          1
         ],
         "title": {
          "text": "Frequency"
         }
        }
       }
      }
     },
     "metadata": {},
     "output_type": "display_data"
    }
   ],
   "source": [
    "import pandas as pd\n",
    "from sklearn.feature_extraction.text import CountVectorizer\n",
    "import plotly.express as px\n",
    "import string\n",
    "\n",
    "# Load the dataset\n",
    "data = pd.read_csv('main.csv')\n",
    "\n",
    "# Function to clean and prepare text\n",
    "def clean_text(text):\n",
    "    # Convert to lower case and remove punctuation\n",
    "    text = text.lower()\n",
    "    text = text.translate(str.maketrans('', '', string.punctuation))\n",
    "    return text\n",
    "\n",
    "# Apply text cleaning\n",
    "data['cleaned'] = data['cleaned'].apply(clean_text)\n",
    "\n",
    "# Function to create n-gram frequency plot\n",
    "def plot_ngrams(n, max_features=26):\n",
    "    # Create CountVectorizer object for n-grams\n",
    "    vectorizer = CountVectorizer(ngram_range=(n, n), stop_words='english', max_features=max_features)\n",
    "    \n",
    "    # Fit and transform the data\n",
    "    ngrams = vectorizer.fit_transform(data['cleaned'])\n",
    "    \n",
    "    # Sum up their counts and get feature names\n",
    "    sum_ngrams = ngrams.sum(axis=0) \n",
    "    ngrams_freq = [(word, sum_ngrams[0, idx]) for word, idx in vectorizer.vocabulary_.items()]\n",
    "    \n",
    "    # Sort n-grams by frequency\n",
    "    ngrams_freq = sorted(ngrams_freq, key=lambda x: x[1], reverse=True)\n",
    "    words, freqs = zip(*ngrams_freq)\n",
    "    \n",
    "    # Create a DataFrame\n",
    "    df_ngrams = pd.DataFrame({'N-gram': words[1:], 'Frequency': freqs[1:]})\n",
    "    \n",
    "    # Plot using Plotly\n",
    "    if n==1:\n",
    "        grams='Uni'\n",
    "    elif n==2:\n",
    "        grams='Bi'\n",
    "    elif n==3:\n",
    "        grams='Tri'\n",
    "    elif n==4:\n",
    "        grams='Quad'\n",
    "    fig = px.bar(df_ngrams, x='N-gram', y='Frequency', title=f'Top {25} {grams}-grams', \n",
    "                 template='plotly_dark', color='Frequency', color_continuous_scale=px.colors.sequential.Viridis)\n",
    "    fig.show()\n",
    "\n",
    "# Plot unigrams, bigrams, and trigrams\n",
    "\n",
    "\n",
    "## Unigrams\n",
    "\n",
    "plot_ngrams(1)\n",
    "\n",
    "\n",
    "## Bigrams\n",
    "plot_ngrams(2)\n",
    "\n",
    "\n",
    "## Trigrams\n",
    "plot_ngrams(3)\n",
    "\n",
    "## Quadgrams\n",
    "plot_ngrams(4)"
   ]
  },
  {
   "cell_type": "markdown",
   "metadata": {},
   "source": [
    "Topic Modeling with Latent Dirichlet Allocation"
   ]
  },
  {
   "cell_type": "code",
   "execution_count": 6,
   "metadata": {},
   "outputs": [
    {
     "name": "stdout",
     "output_type": "stream",
     "text": [
      "(0, '0.026*\"season\" + 0.024*\"forc\" + 0.023*\"wife\" + 0.022*\"premier\" + 0.022*\"design\"')\n",
      "(1, '0.165*\"thehil\" + 0.066*\"trump\" + 0.019*\"report\" + 0.015*\"dem\" + 0.015*\"deport\"')\n",
      "(2, '0.032*\"lawyer\" + 0.032*\"joe\" + 0.031*\"giudic\" + 0.029*\"christian\" + 0.012*\"peopl\"')\n",
      "(3, '0.031*\"win\" + 0.022*\"past\" + 0.013*\"state\" + 0.013*\"lead\" + 0.011*\"beat\"')\n",
      "(4, '0.022*\"return\" + 0.022*\"star\" + 0.022*\"new\" + 0.020*\"deni\" + 0.020*\"william\"')\n"
     ]
    },
    {
     "name": "stderr",
     "output_type": "stream",
     "text": [
      "C:\\Users\\nikit\\AppData\\Roaming\\Python\\Python39\\site-packages\\scipy\\sparse\\sputils.py:44: DeprecationWarning:\n",
      "\n",
      "np.find_common_type is deprecated.  Please use `np.result_type` or `np.promote_types`.\n",
      "See https://numpy.org/devdocs/release/1.25.0-notes.html and the docs for more information.  (Deprecated NumPy 1.25)\n",
      "\n"
     ]
    },
    {
     "data": {
      "text/html": [
       "\n",
       "<link rel=\"stylesheet\" type=\"text/css\" href=\"https://cdn.jsdelivr.net/gh/bmabey/pyLDAvis@3.4.0/pyLDAvis/js/ldavis.v1.0.0.css\">\n",
       "\n",
       "\n",
       "<div id=\"ldavis_el5324412945142934408972568421\" style=\"background-color:white;\"></div>\n",
       "<script type=\"text/javascript\">\n",
       "\n",
       "var ldavis_el5324412945142934408972568421_data = {\"mdsDat\": {\"x\": [-0.22059555850266674, 0.2635149356589088, 0.05942590303559855, 0.1219940175326956, -0.22433929772453592], \"y\": [-0.1497977226816993, -0.17912952615371308, -0.08608028048960802, 0.32447496210108023, 0.09053256722394012], \"topics\": [1, 2, 3, 4, 5], \"cluster\": [1, 1, 1, 1, 1], \"Freq\": [16.719902264630132, 30.9207885837519, 16.67930928024273, 19.453936824923364, 16.226063046451877]}, \"tinfo\": {\"Term\": [\"thehil\", \"trump\", \"win\", \"lawyer\", \"joe\", \"giudic\", \"christian\", \"season\", \"forc\", \"past\", \"wife\", \"report\", \"premier\", \"return\", \"design\", \"project\", \"mentor\", \"runwai\", \"sandler\", \"siriano\", \"uncut\", \"snippi\", \"star\", \"deni\", \"william\", \"bring\", \"adam\", \"appeal\", \"dem\", \"rhoni\", \"wife\", \"season\", \"premier\", \"design\", \"project\", \"forc\", \"mentor\", \"runwai\", \"sandler\", \"uncut\", \"siriano\", \"snippi\", \"north\", \"shoot\", \"polic\", \"lawmak\", \"korea\", \"charg\", \"awai\", \"victori\", \"sexual\", \"feder\", \"amid\", \"net\", \"pull\", \"arrest\", \"student\", \"seek\", \"dead\", \"ahead\", \"adam\", \"kill\", \"man\", \"new\", \"vote\", \"accus\", \"star\", \"thehil\", \"trump\", \"report\", \"dem\", \"gop\", \"hous\", \"poll\", \"senat\", \"russia\", \"plan\", \"presid\", \"voter\", \"mueller\", \"republican\", \"obama\", \"support\", \"democrat\", \"fall\", \"russian\", \"deport\", \"tweet\", \"immigr\", \"rep\", \"tax\", \"secur\", \"candid\", \"major\", \"critic\", \"ask\", \"fbi\", \"elect\", \"american\", \"offici\", \"white\", \"attack\", \"polit\", \"new\", \"meet\", \"want\", \"state\", \"lawyer\", \"joe\", \"giudic\", \"peopl\", \"christian\", \"watch\", \"probe\", \"aid\", \"virginia\", \"defend\", \"biden\", \"parti\", \"episod\", \"govern\", \"west\", \"know\", \"hope\", \"issu\", \"suspect\", \"health\", \"midterm\", \"debat\", \"young\", \"sentenc\", \"congress\", \"prison\", \"miami\", \"care\", \"free\", \"compani\", \"offic\", \"campaign\", \"california\", \"big\", \"time\", \"woman\", \"win\", \"past\", \"beat\", \"game\", \"ralli\", \"red\", \"lift\", \"score\", \"rout\", \"goal\", \"straight\", \"ranger\", \"final\", \"homer\", \"streak\", \"edg\", \"sox\", \"blue\", \"giant\", \"loss\", \"met\", \"defeat\", \"case\", \"jet\", \"seri\", \"cup\", \"market\", \"knick\", \"shut\", \"island\", \"lead\", \"help\", \"state\", \"run\", \"end\", \"late\", \"open\", \"hold\", \"second\", \"die\", \"return\", \"deni\", \"william\", \"bring\", \"rhoni\", \"porsha\", \"mckinlei\", \"denni\", \"chef\", \"bravo\", \"kitchen\", \"mortim\", \"tinslei\", \"appeal\", \"pollster\", \"odd\", \"clinton\", \"texa\", \"point\", \"court\", \"playoff\", \"border\", \"michigan\", \"analyst\", \"law\", \"doubl\", \"rip\", \"wild\", \"indian\", \"iowa\", \"rhoa\", \"cheat\", \"gem\", \"leav\", \"star\", \"new\", \"wall\", \"lead\", \"state\"], \"Freq\": [16610.0, 6629.0, 1985.0, 1759.0, 1745.0, 1676.0, 1575.0, 1421.0, 1308.0, 1404.0, 1271.0, 1869.0, 1215.0, 1183.0, 1200.0, 1186.0, 1165.0, 1164.0, 1157.0, 1157.0, 1157.0, 1157.0, 1393.0, 1060.0, 1041.0, 1021.0, 1201.0, 1009.0, 1525.0, 970.0, 1270.7096892842408, 1420.4841880692359, 1214.6227923714055, 1200.1568219630994, 1185.2041382456975, 1307.3452736589525, 1164.3078797441501, 1163.5251880189921, 1157.0871003576342, 1156.9316154607639, 1157.115259837328, 1156.9597749404577, 445.1156293560664, 434.279344975125, 332.30123269063546, 315.44069357743314, 309.9896817784709, 302.87561466482333, 218.3259412162096, 204.05916367415475, 196.26818014711267, 195.17901350919027, 192.74453532587904, 194.5799661605965, 183.60736660052598, 180.4551762108466, 178.44902853048555, 173.82355543477655, 167.53129184159897, 167.93765440512976, 1121.5243111247817, 384.3345319843127, 322.1440678478488, 343.525089766463, 200.93519607235194, 195.92008643499864, 211.29778330657385, 16609.496875332963, 6629.009634989616, 1868.5001932986443, 1524.3869082315261, 1297.4104405530913, 927.9500626278937, 901.4349959320843, 725.5607086800854, 511.62185433584335, 476.43048415187565, 449.25280070265666, 421.23280861488894, 416.24751787816064, 401.390319319784, 393.4901049430473, 386.68644659720235, 384.0059606890173, 360.4162376083125, 334.1447641730065, 1462.6679673816338, 285.2013215983745, 282.1006882449131, 272.338693598772, 271.0271582614609, 269.0883170076947, 268.18758626158507, 261.797144321402, 257.9551707172886, 250.45693322251472, 249.9170380184944, 456.78880768019434, 519.5130770936207, 453.31490506155154, 632.5502782130637, 456.58527863854346, 332.1223757930771, 867.84212017487, 347.84120092136027, 331.7163245837733, 321.2166893635312, 1758.9359802486636, 1745.066245612619, 1675.828320131369, 655.1301857920093, 1572.5337594138623, 392.83785161767884, 320.0756534439573, 306.75109355507215, 318.27044574125483, 288.58713204840495, 286.8638483392634, 278.4343165355736, 266.7758981808578, 239.28455023616758, 222.11198778201305, 221.10709893222574, 222.60034875750483, 219.37477150131585, 217.4257736748549, 204.77552681715136, 198.9858270834966, 178.17556648787615, 175.7724879385482, 173.56065379047, 173.30289508917525, 166.13433092735636, 169.03334898997085, 159.91942469983246, 159.62968456904397, 153.09893014802878, 282.5647459426596, 292.46292258558833, 196.93866193080135, 196.315693493179, 193.30610456413956, 175.93089200935418, 1984.8354850091835, 1403.3508837386332, 685.0977443957053, 636.3408574929566, 558.9814906941943, 468.28869218877975, 464.38328083385966, 456.74638487680403, 443.4928893518059, 389.02747479900603, 371.9340961417192, 352.0177298322139, 331.5072782920808, 314.3392669963383, 293.837301125323, 287.7259104410817, 270.7925220036187, 267.7022652383206, 265.7471729664212, 262.44707267523256, 257.802642039719, 256.0755726612297, 259.56279963494165, 236.0588515287557, 225.61249195463805, 213.12846688743193, 203.38383973880886, 203.84073998536667, 195.7431871053209, 189.17769526676548, 850.3621611458053, 550.4656503084893, 852.4633660328257, 412.37116750820815, 374.1046301239965, 329.1099589098063, 347.37167866961187, 299.4093214662685, 272.3493476454335, 288.4013755956788, 1183.1577713002803, 1059.2287344410547, 1040.6498873209835, 1020.7829982863288, 970.040064589925, 947.3101502357075, 935.7518835550478, 964.5895524905668, 946.9200906831572, 943.1648827781744, 937.2284673602034, 939.0682744634116, 939.0682744634116, 1008.329305077398, 568.3684745487287, 939.6647667428659, 429.55637533945577, 323.32144933824515, 301.37710981119636, 226.49063993712522, 227.5039051470042, 181.77342838840312, 167.04526430950767, 161.79797785718918, 154.0310816717075, 145.1487360765293, 145.25021987959485, 143.07981322178213, 134.2668560557008, 127.194003900798, 971.8930440671357, 932.8910208640524, 886.548249892259, 982.9185177097858, 1181.3406717970315, 1148.2371197106884, 218.83132223521767, 313.13099607592227, 192.75623926749296], \"Total\": [16610.0, 6629.0, 1985.0, 1759.0, 1745.0, 1676.0, 1575.0, 1421.0, 1308.0, 1404.0, 1271.0, 1869.0, 1215.0, 1183.0, 1200.0, 1186.0, 1165.0, 1164.0, 1157.0, 1157.0, 1157.0, 1157.0, 1393.0, 1060.0, 1041.0, 1021.0, 1201.0, 1009.0, 1525.0, 970.0, 1271.5039497899015, 1421.4127474899844, 1215.4230126714706, 1200.9571114870798, 1186.0097759480775, 1308.2685868823785, 1165.1332180264922, 1164.3502165865607, 1157.9083678030845, 1157.7532774818008, 1157.9565955661462, 1157.8017103298082, 445.90598895980327, 435.0697817856765, 333.091762385569, 316.24357268149924, 310.7789821934292, 303.66813530557266, 219.12713680309912, 204.8760761890957, 197.05711732209164, 195.97749384050428, 193.5406091785719, 195.39372402461473, 184.40920870301395, 181.2445417818658, 179.24099286124098, 174.62368654813739, 168.32381822785132, 168.73793709860595, 1201.5570106434081, 486.95584027490656, 425.0406918707443, 2360.033077968048, 294.5890852516357, 274.9364990617609, 1393.2917046643784, 16610.25557104421, 6629.760712180373, 1869.2529149263096, 1525.1406890934136, 1298.1623924651665, 928.7015379574452, 902.1859312624317, 726.3155631209557, 512.3726677231801, 477.1848180726045, 450.006012977731, 421.9870398671283, 417.00076542336654, 402.1412802072208, 394.24106167908405, 387.43863235562037, 384.76220682252733, 361.2233497142407, 334.89777539778356, 1466.336087569144, 285.9510598409723, 282.8550603698622, 273.08894625740373, 271.7784531834774, 269.843262532816, 268.94164888599425, 262.55082957397934, 258.70772002267427, 251.2094219081271, 250.6690554882597, 459.48253826300123, 569.6829753618413, 507.0739695001592, 779.4999198202037, 546.2510595891551, 361.59160063482926, 2360.033077968048, 436.2949775556516, 403.3039967917678, 1366.8984608701496, 1759.681576387502, 1745.8128995972104, 1676.5790635202725, 655.858625957943, 1575.0759507492246, 393.5647179463764, 320.8131253401756, 307.48932578862383, 319.06819828571207, 289.3213650203365, 287.6036070012108, 279.1672372176995, 267.5018689923197, 240.01771438755455, 222.8436987688542, 221.8367989636002, 223.33961428579346, 220.10991860266702, 218.16160842407126, 205.50579692183504, 199.72680821894346, 178.90945021786467, 176.50811886212225, 174.2951362884282, 174.03703089202898, 166.8659272475376, 169.78125604654258, 160.65017320844908, 160.36458501478765, 153.83179011257369, 370.1048015329276, 392.87820051442804, 267.3664312083731, 392.0262888114747, 461.42433533321224, 445.181838928063, 1985.6226364789575, 1404.1375866331327, 685.8843949221348, 637.139342091963, 559.7679276905717, 469.0716307722574, 465.1685832977672, 457.53190075902546, 444.2806830669384, 389.8123583692457, 372.7169132877771, 352.79941096311177, 332.2926491451189, 315.1186922285659, 294.62052397120704, 288.51071838951515, 271.57358907149296, 268.48580804925456, 266.5316408267193, 263.23697601001777, 258.5865441136195, 256.86142066699614, 260.3599495123403, 236.84850849870128, 226.39901384408128, 213.9190028331034, 204.17359926914568, 204.63867524610112, 196.52835970717496, 189.96588895267303, 1164.1381975644645, 698.7617322054379, 1366.8984608701496, 530.4056488433224, 544.2345502496423, 484.09297524958714, 634.5205943394042, 445.0860477206941, 352.40430264369195, 547.2422973126477, 1183.9903645978081, 1060.06021547883, 1041.4780291061466, 1021.6127441728056, 970.8742021559417, 948.129393456711, 936.5706808121939, 965.4386711061376, 947.7636322671557, 944.0103110866429, 938.0845221730639, 939.9311466502037, 939.9311466502037, 1009.2756722403748, 569.2589017838462, 941.183064578107, 430.38583984667474, 324.1549976754618, 302.2102918867546, 227.31748949629795, 228.39815300277593, 182.60286718121995, 167.88122721315347, 162.6535853913186, 154.8606360793292, 145.98007097188855, 146.08733444840027, 143.94116778826074, 135.12755955138866, 128.02622808253338, 978.3833872568229, 967.4825795792553, 950.9344608795891, 1141.50139405058, 1393.2917046643784, 2360.033077968048, 325.57973121357134, 1164.1381975644645, 1366.8984608701496], \"Category\": [\"Default\", \"Default\", \"Default\", \"Default\", \"Default\", \"Default\", \"Default\", \"Default\", \"Default\", \"Default\", \"Default\", \"Default\", \"Default\", \"Default\", \"Default\", \"Default\", \"Default\", \"Default\", \"Default\", \"Default\", \"Default\", \"Default\", \"Default\", \"Default\", \"Default\", \"Default\", \"Default\", \"Default\", \"Default\", \"Default\", \"Topic1\", \"Topic1\", \"Topic1\", \"Topic1\", \"Topic1\", \"Topic1\", \"Topic1\", \"Topic1\", \"Topic1\", \"Topic1\", \"Topic1\", \"Topic1\", \"Topic1\", \"Topic1\", \"Topic1\", \"Topic1\", \"Topic1\", \"Topic1\", \"Topic1\", \"Topic1\", \"Topic1\", \"Topic1\", \"Topic1\", \"Topic1\", \"Topic1\", \"Topic1\", \"Topic1\", \"Topic1\", \"Topic1\", \"Topic1\", \"Topic1\", \"Topic1\", \"Topic1\", \"Topic1\", \"Topic1\", \"Topic1\", \"Topic1\", \"Topic2\", \"Topic2\", \"Topic2\", \"Topic2\", \"Topic2\", \"Topic2\", \"Topic2\", \"Topic2\", \"Topic2\", \"Topic2\", \"Topic2\", \"Topic2\", \"Topic2\", \"Topic2\", \"Topic2\", \"Topic2\", \"Topic2\", \"Topic2\", \"Topic2\", \"Topic2\", \"Topic2\", \"Topic2\", \"Topic2\", \"Topic2\", \"Topic2\", \"Topic2\", \"Topic2\", \"Topic2\", \"Topic2\", \"Topic2\", \"Topic2\", \"Topic2\", \"Topic2\", \"Topic2\", \"Topic2\", \"Topic2\", \"Topic2\", \"Topic2\", \"Topic2\", \"Topic2\", \"Topic3\", \"Topic3\", \"Topic3\", \"Topic3\", \"Topic3\", \"Topic3\", \"Topic3\", \"Topic3\", \"Topic3\", \"Topic3\", \"Topic3\", \"Topic3\", \"Topic3\", \"Topic3\", \"Topic3\", \"Topic3\", \"Topic3\", \"Topic3\", \"Topic3\", \"Topic3\", \"Topic3\", \"Topic3\", \"Topic3\", \"Topic3\", \"Topic3\", \"Topic3\", \"Topic3\", \"Topic3\", \"Topic3\", \"Topic3\", \"Topic3\", \"Topic3\", \"Topic3\", \"Topic3\", \"Topic3\", \"Topic3\", \"Topic4\", \"Topic4\", \"Topic4\", \"Topic4\", \"Topic4\", \"Topic4\", \"Topic4\", \"Topic4\", \"Topic4\", \"Topic4\", \"Topic4\", \"Topic4\", \"Topic4\", \"Topic4\", \"Topic4\", \"Topic4\", \"Topic4\", \"Topic4\", \"Topic4\", \"Topic4\", \"Topic4\", \"Topic4\", \"Topic4\", \"Topic4\", \"Topic4\", \"Topic4\", \"Topic4\", \"Topic4\", \"Topic4\", \"Topic4\", \"Topic4\", \"Topic4\", \"Topic4\", \"Topic4\", \"Topic4\", \"Topic4\", \"Topic4\", \"Topic4\", \"Topic4\", \"Topic4\", \"Topic5\", \"Topic5\", \"Topic5\", \"Topic5\", \"Topic5\", \"Topic5\", \"Topic5\", \"Topic5\", \"Topic5\", \"Topic5\", \"Topic5\", \"Topic5\", \"Topic5\", \"Topic5\", \"Topic5\", \"Topic5\", \"Topic5\", \"Topic5\", \"Topic5\", \"Topic5\", \"Topic5\", \"Topic5\", \"Topic5\", \"Topic5\", \"Topic5\", \"Topic5\", \"Topic5\", \"Topic5\", \"Topic5\", \"Topic5\", \"Topic5\", \"Topic5\", \"Topic5\", \"Topic5\", \"Topic5\", \"Topic5\", \"Topic5\", \"Topic5\", \"Topic5\"], \"logprob\": [30.0, 29.0, 28.0, 27.0, 26.0, 25.0, 24.0, 23.0, 22.0, 21.0, 20.0, 19.0, 18.0, 17.0, 16.0, 15.0, 14.0, 13.0, 12.0, 11.0, 10.0, 9.0, 8.0, 7.0, 6.0, 5.0, 4.0, 3.0, 2.0, 1.0, -3.7564, -3.645, -3.8016, -3.8136, -3.8261, -3.728, -3.8439, -3.8446, -3.8501, -3.8502, -3.8501, -3.8502, -4.8054, -4.8301, -5.0977, -5.1498, -5.1672, -5.1905, -5.5178, -5.5854, -5.6243, -5.6299, -5.6424, -5.6329, -5.691, -5.7083, -5.7195, -5.7457, -5.7826, -5.7802, -3.8813, -4.9523, -5.1288, -5.0645, -5.6008, -5.6261, -5.5505, -1.8009, -2.7194, -3.9857, -4.1893, -4.3505, -4.6856, -4.7146, -4.9317, -5.281, -5.3523, -5.411, -5.4754, -5.4873, -5.5237, -5.5435, -5.561, -5.5679, -5.6313, -5.707, -4.2306, -5.8654, -5.8763, -5.9116, -5.9164, -5.9236, -5.9269, -5.951, -5.9658, -5.9953, -5.9975, -5.3944, -5.2657, -5.402, -5.0688, -5.3948, -5.7131, -4.7526, -5.6669, -5.7143, -5.7465, -3.4289, -3.4368, -3.4773, -4.4165, -3.5409, -4.9279, -5.1328, -5.1753, -5.1384, -5.2363, -5.2423, -5.2722, -5.3149, -5.4237, -5.4982, -5.5027, -5.496, -5.5106, -5.5195, -5.5794, -5.6081, -5.7186, -5.7322, -5.7448, -5.7463, -5.7885, -5.7712, -5.8267, -5.8285, -5.8703, -5.2574, -5.223, -5.6185, -5.6216, -5.6371, -5.7313, -3.4619, -3.8086, -4.5257, -4.5995, -4.7291, -4.9061, -4.9145, -4.9311, -4.9605, -5.0916, -5.1365, -5.1915, -5.2516, -5.3048, -5.3722, -5.3932, -5.4539, -5.4654, -5.4727, -5.4852, -5.503, -5.5098, -5.4962, -5.5911, -5.6364, -5.6933, -5.7401, -5.7379, -5.7784, -5.8125, -4.3096, -4.7445, -4.3071, -5.0333, -5.1307, -5.2588, -5.2048, -5.3534, -5.4481, -5.3909, -3.7979, -3.9085, -3.9262, -3.9455, -3.9965, -4.0202, -4.0324, -4.0021, -4.0206, -4.0246, -4.0309, -4.0289, -4.0289, -3.9577, -4.531, -4.0283, -4.811, -5.0951, -5.1654, -5.4511, -5.4466, -5.671, -5.7555, -5.7874, -5.8366, -5.896, -5.8953, -5.9104, -5.974, -6.0281, -3.9945, -4.0355, -4.0865, -3.9833, -3.7994, -3.8278, -5.4855, -5.1272, -5.6124], \"loglift\": [30.0, 29.0, 28.0, 27.0, 26.0, 25.0, 24.0, 23.0, 22.0, 21.0, 20.0, 19.0, 18.0, 17.0, 16.0, 15.0, 14.0, 13.0, 12.0, 11.0, 10.0, 9.0, 8.0, 7.0, 6.0, 5.0, 4.0, 3.0, 2.0, 1.0, 1.7879, 1.7879, 1.7879, 1.7879, 1.7879, 1.7879, 1.7879, 1.7879, 1.7879, 1.7879, 1.7878, 1.7878, 1.7868, 1.7868, 1.7862, 1.786, 1.786, 1.786, 1.7849, 1.7846, 1.7846, 1.7845, 1.7844, 1.7844, 1.7842, 1.7842, 1.7841, 1.784, 1.7839, 1.7838, 1.7196, 1.5519, 1.5114, -0.1386, 1.406, 1.4497, -0.0976, 1.1737, 1.1736, 1.1733, 1.1732, 1.1732, 1.1729, 1.1729, 1.1727, 1.1723, 1.1722, 1.1721, 1.172, 1.1719, 1.1719, 1.1718, 1.1718, 1.1718, 1.1715, 1.1715, 1.1712, 1.1711, 1.1711, 1.171, 1.171, 1.1709, 1.1709, 1.1709, 1.1708, 1.1707, 1.1707, 1.1679, 1.0816, 1.0617, 0.9648, 0.9944, 1.0887, 0.1733, 0.9472, 0.9783, -0.2744, 1.7906, 1.7906, 1.7906, 1.7899, 1.7894, 1.7892, 1.7887, 1.7886, 1.7885, 1.7885, 1.7884, 1.7884, 1.7883, 1.7879, 1.7877, 1.7877, 1.7877, 1.7877, 1.7876, 1.7874, 1.7873, 1.7869, 1.7868, 1.7868, 1.7868, 1.7866, 1.7866, 1.7864, 1.7864, 1.7862, 1.5211, 1.4958, 1.4853, 1.0994, 0.921, 0.8626, 1.6367, 1.6366, 1.636, 1.6359, 1.6357, 1.6355, 1.6354, 1.6354, 1.6353, 1.6351, 1.635, 1.6349, 1.6348, 1.6346, 1.6345, 1.6344, 1.6342, 1.6342, 1.6342, 1.6341, 1.6341, 1.6341, 1.6341, 1.6338, 1.6336, 1.6334, 1.6332, 1.6332, 1.6331, 1.633, 1.323, 1.3986, 1.165, 1.3854, 1.2623, 1.2512, 1.0346, 1.2407, 1.3794, 0.9966, 1.8178, 1.8178, 1.8178, 1.8177, 1.8177, 1.8177, 1.8177, 1.8177, 1.8177, 1.8177, 1.8176, 1.8176, 1.8176, 1.8176, 1.817, 1.8169, 1.8166, 1.816, 1.8158, 1.8149, 1.8146, 1.814, 1.8136, 1.8133, 1.8132, 1.8128, 1.8128, 1.8125, 1.8122, 1.812, 1.8119, 1.7821, 1.7484, 1.669, 1.6535, 1.0981, 1.4212, 0.5054, -0.1403]}, \"token.table\": {\"Topic\": [1, 5, 1, 5, 1, 3, 2, 3, 1, 5, 5, 1, 2, 2, 3, 1, 4, 3, 3, 4, 4, 5, 5, 5, 3, 4, 3, 5, 2, 3, 4, 1, 4, 5, 5, 1, 3, 5, 3, 3, 5, 2, 4, 1, 3, 4, 3, 2, 2, 5, 5, 2, 3, 1, 2, 4, 5, 4, 2, 3, 1, 2, 4, 3, 2, 2, 1, 4, 1, 3, 4, 1, 5, 4, 3, 4, 2, 3, 3, 2, 4, 2, 4, 5, 4, 3, 2, 2, 5, 5, 4, 3, 4, 3, 1, 2, 5, 4, 3, 1, 1, 3, 4, 5, 1, 3, 4, 5, 1, 5, 4, 4, 2, 1, 3, 4, 5, 2, 3, 1, 4, 3, 5, 3, 5, 2, 1, 1, 2, 5, 1, 2, 3, 5, 3, 5, 1, 2, 1, 2, 3, 4, 5, 3, 4, 3, 2, 5, 5, 1, 2, 3, 2, 5, 5, 1, 2, 3, 3, 1, 1, 4, 4, 4, 2, 2, 2, 5, 4, 5, 5, 5, 4, 4, 5, 1, 2, 2, 1, 4, 1, 2, 3, 4, 2, 1, 2, 3, 4, 1, 1, 4, 1, 1, 4, 1, 5, 2, 4, 5, 4, 4, 1, 2, 3, 2, 5, 2, 1, 2, 3, 5, 2, 2, 1, 1, 3, 1, 5, 2, 1, 5, 2, 3, 3, 3, 2, 4, 1, 5, 5, 4, 2, 3, 3], \"Freq\": [0.7128918883773636, 0.2837018739460937, 0.9337884012671134, 0.06574802468814792, 0.9956267267972185, 0.9984086413817168, 0.9127883796592579, 0.08776811342877479, 0.9972067403276946, 0.9959817338809583, 0.9987360517295111, 0.9931333557985782, 0.9951856029167194, 0.8366116494926666, 0.1629287457436484, 0.9948562427294803, 0.9987105772799582, 0.9979012537168623, 0.4999664706013027, 0.4974156212615002, 0.9981905633940792, 0.9966984791064554, 0.9989297668947281, 0.9994002187459968, 0.7368165072542979, 0.2618129721208165, 0.7432328890166473, 0.254531811307071, 0.9964986870204198, 0.9959528633211902, 0.99861749277101, 0.9977997846072972, 0.03514275162947753, 0.9643584491265451, 0.9991942798381818, 0.0012697800376220902, 0.998681999589774, 0.9991035024599968, 0.9945928594345487, 0.9940413204780979, 0.9942041877234465, 0.997264403154988, 0.9957039682266077, 0.998076218616827, 0.9949167010643809, 0.9966463602639927, 0.9988892454578531, 0.9992520761516817, 0.9980190184768357, 0.9989998535334607, 0.9995456250932698, 0.997724882039373, 0.002045915684291264, 0.9992030427415558, 0.4714547856899313, 0.5262751096073652, 0.9932862686984356, 0.9982298113832095, 0.9945970998759037, 0.0043527225377501255, 0.09738448243627441, 0.2131433955209025, 0.687203706248427, 0.998123867342646, 0.9966133149609279, 0.9973309210945225, 0.995012213793795, 0.9991193029822604, 0.9990303314662614, 0.9977265241277927, 0.998211785057532, 0.06730221969324963, 0.9327667010611316, 0.99800533690833, 0.999654616037578, 0.9979160271556188, 0.9991045862428974, 0.9957598363514484, 0.9975387705387823, 0.2118032416183999, 0.787106641149459, 0.22242890000031118, 0.6717802131322529, 0.1033508020203466, 0.9964499337673232, 0.9984793817841967, 0.9992446034287957, 0.9969770370424198, 0.9916555915378621, 0.9919842355906024, 0.9949154610967358, 0.994957434859305, 0.9964175054169448, 0.9995343718691746, 0.7885725321277927, 0.2094645788464449, 0.9988438971676544, 0.9968790100633077, 0.9962278622504939, 0.9974934527813584, 0.20244045051360943, 0.11774597631914017, 0.679621512438546, 0.9944425123057848, 0.9960676744480379, 0.9996126706123154, 0.7301538612669146, 0.26886842185475796, 0.13841419802330876, 0.8611465611196994, 0.9974878284137706, 0.9953009032820271, 0.9979020078707307, 0.7575745244126434, 0.2399770232611479, 0.9942519538601138, 0.9993906697872509, 0.7976255008702475, 0.20169840251891316, 0.9990273918819244, 0.9977317299489421, 0.9953984552551054, 0.9947508889005523, 0.9963609881646598, 0.999009345893556, 0.9976000873227403, 0.997984970978059, 0.14576066887002223, 0.3677914551720328, 0.48643386006623696, 0.9979682063434117, 0.9968520232930626, 0.0010624925560557745, 0.9987430026924281, 0.7646482802380558, 0.23506855258201712, 0.10452123987402466, 0.8933607860930787, 0.09140759262571056, 0.06619170500482488, 0.15444731167792472, 0.546869562777958, 0.13868738191487118, 0.9958188603027609, 0.999189832503622, 0.9986908368298292, 0.9975170667051183, 0.9982567590957222, 0.9959951996366553, 0.9967223374791683, 0.9181629203143085, 0.08020097797926189, 0.9986854912924964, 0.997788525080765, 0.9988088192766671, 0.9996519625948658, 0.9977644454769079, 0.9948106407232374, 0.9974654237125947, 0.9991485939082835, 0.9977809746818395, 0.9986281320301077, 0.9977340921263744, 0.9977154219058333, 0.9960124850444245, 0.9998646973214326, 0.9971619919083345, 0.9991635366068671, 0.006132565288974001, 0.9934755768137882, 0.9990995721649618, 0.9925569560666854, 0.9971174009680149, 0.7767639747021274, 0.2205858860197789, 0.9996992171413963, 0.9992726627576834, 0.9973192554154258, 0.9992155097688706, 0.9988374564524505, 0.999006096228925, 0.16458368857840674, 0.06242829566767153, 0.7718407464366661, 0.9968749913379309, 0.996428396625532, 0.9995655289009645, 0.9983066866080542, 0.9982375636832231, 0.994635477589151, 0.9975411259745832, 0.9973115345390242, 0.9991738934172412, 0.9993075581745515, 0.9978879055454027, 0.15143993127471214, 0.8476329802627254, 0.2348382189234858, 0.6233089175165418, 0.1411955646487002, 0.9980765206455131, 0.9978938196061735, 0.993076400429216, 0.9988678662399939, 0.9946754681886408, 0.9971357067701322, 0.9964368969050473, 0.9999244098900923, 0.13219935605682687, 0.44861092956988785, 0.41827009375356694, 0.999009345893556, 0.999885257973342, 0.9966740468054177, 0.9993493626868073, 0.9957238726678507, 0.9966521317653991, 0.6823063380922866, 0.31569397732628185, 0.997660971134471, 0.32557309266425716, 0.6726462952214369, 0.8232003715336766, 0.1760458625870212, 0.9985651204982929, 0.9962139437932712, 0.8120590957161423, 0.1872995702599633, 0.9996036584943485, 0.9934614412073882, 0.9995410089384633, 0.9996864275882442, 0.60424747030947, 0.3953440697935566, 0.9971212720106141], \"Term\": [\"accus\", \"accus\", \"adam\", \"adam\", \"ahead\", \"aid\", \"american\", \"american\", \"amid\", \"analyst\", \"appeal\", \"arrest\", \"ask\", \"attack\", \"attack\", \"awai\", \"beat\", \"biden\", \"big\", \"big\", \"blue\", \"border\", \"bravo\", \"bring\", \"california\", \"california\", \"campaign\", \"campaign\", \"candid\", \"care\", \"case\", \"charg\", \"cheat\", \"cheat\", \"chef\", \"christian\", \"christian\", \"clinton\", \"compani\", \"congress\", \"court\", \"critic\", \"cup\", \"dead\", \"debat\", \"defeat\", \"defend\", \"dem\", \"democrat\", \"deni\", \"denni\", \"deport\", \"deport\", \"design\", \"die\", \"die\", \"doubl\", \"edg\", \"elect\", \"elect\", \"end\", \"end\", \"end\", \"episod\", \"fall\", \"fbi\", \"feder\", \"final\", \"forc\", \"free\", \"game\", \"gem\", \"gem\", \"giant\", \"giudic\", \"goal\", \"gop\", \"govern\", \"health\", \"help\", \"help\", \"hold\", \"hold\", \"hold\", \"homer\", \"hope\", \"hous\", \"immigr\", \"indian\", \"iowa\", \"island\", \"issu\", \"jet\", \"joe\", \"kill\", \"kill\", \"kitchen\", \"knick\", \"know\", \"korea\", \"late\", \"late\", \"late\", \"law\", \"lawmak\", \"lawyer\", \"lead\", \"lead\", \"leav\", \"leav\", \"lift\", \"loss\", \"major\", \"man\", \"man\", \"market\", \"mckinlei\", \"meet\", \"meet\", \"mentor\", \"met\", \"miami\", \"michigan\", \"midterm\", \"mortim\", \"mueller\", \"net\", \"new\", \"new\", \"new\", \"north\", \"obama\", \"odd\", \"odd\", \"offic\", \"offic\", \"offici\", \"offici\", \"open\", \"open\", \"open\", \"open\", \"open\", \"parti\", \"past\", \"peopl\", \"plan\", \"playoff\", \"point\", \"polic\", \"polit\", \"polit\", \"poll\", \"pollster\", \"porsha\", \"premier\", \"presid\", \"prison\", \"probe\", \"project\", \"pull\", \"ralli\", \"ranger\", \"red\", \"rep\", \"report\", \"republican\", \"return\", \"rhoa\", \"rhoa\", \"rhoni\", \"rip\", \"rout\", \"run\", \"run\", \"runwai\", \"russia\", \"russian\", \"sandler\", \"score\", \"season\", \"second\", \"second\", \"second\", \"secur\", \"seek\", \"senat\", \"sentenc\", \"seri\", \"sexual\", \"shoot\", \"shut\", \"siriano\", \"snippi\", \"sox\", \"star\", \"star\", \"state\", \"state\", \"state\", \"straight\", \"streak\", \"student\", \"support\", \"suspect\", \"tax\", \"texa\", \"thehil\", \"time\", \"time\", \"time\", \"tinslei\", \"trump\", \"tweet\", \"uncut\", \"victori\", \"virginia\", \"vote\", \"vote\", \"voter\", \"wall\", \"wall\", \"want\", \"want\", \"watch\", \"west\", \"white\", \"white\", \"wife\", \"wild\", \"william\", \"win\", \"woman\", \"woman\", \"young\"]}, \"R\": 30, \"lambda.step\": 0.01, \"plot.opts\": {\"width\": 800, \"height\": 600}, \"topic.order\": [1, 2, 3, 4, 5]};\n",
       "\n",
       "function LDAvis_load_lib(url, callback){\n",
       "  var s = document.createElement('script');\n",
       "  s.src = url;\n",
       "  s.async = true;\n",
       "  s.onreadystatechange = s.onload = callback;\n",
       "  s.onerror = function(){console.warn(\"failed to load library \" + url);};\n",
       "  document.getElementsByTagName(\"head\")[0].appendChild(s);\n",
       "}\n",
       "\n",
       "if(typeof(LDAvis) !== \"undefined\"){\n",
       "   // already loaded: just create the visualization\n",
       "   !function(LDAvis){\n",
       "       new LDAvis(\"#\" + \"ldavis_el5324412945142934408972568421\", ldavis_el5324412945142934408972568421_data);\n",
       "   }(LDAvis);\n",
       "}else if(typeof define === \"function\" && define.amd){\n",
       "   // require.js is available: use it to load d3/LDAvis\n",
       "   require.config({paths: {d3: \"https://d3js.org/d3.v5\"}});\n",
       "   require([\"d3\"], function(d3){\n",
       "      window.d3 = d3;\n",
       "      LDAvis_load_lib(\"https://cdn.jsdelivr.net/gh/bmabey/pyLDAvis@3.4.0/pyLDAvis/js/ldavis.v3.0.0.js\", function(){\n",
       "        new LDAvis(\"#\" + \"ldavis_el5324412945142934408972568421\", ldavis_el5324412945142934408972568421_data);\n",
       "      });\n",
       "    });\n",
       "}else{\n",
       "    // require.js not available: dynamically load d3 & LDAvis\n",
       "    LDAvis_load_lib(\"https://d3js.org/d3.v5.js\", function(){\n",
       "         LDAvis_load_lib(\"https://cdn.jsdelivr.net/gh/bmabey/pyLDAvis@3.4.0/pyLDAvis/js/ldavis.v3.0.0.js\", function(){\n",
       "                 new LDAvis(\"#\" + \"ldavis_el5324412945142934408972568421\", ldavis_el5324412945142934408972568421_data);\n",
       "            })\n",
       "         });\n",
       "}\n",
       "</script>"
      ],
      "text/plain": [
       "<IPython.core.display.HTML object>"
      ]
     },
     "execution_count": 6,
     "metadata": {},
     "output_type": "execute_result"
    }
   ],
   "source": [
    "## Topic Modeling\n",
    "\n",
    "from gensim.parsing.preprocessing import preprocess_string\n",
    "from gensim import corpora, models\n",
    "import gensim\n",
    "import pyLDAvis.gensim_models as gensimvis\n",
    "import pyLDAvis\n",
    "\n",
    "# Load the dataset\n",
    "data = pd.read_csv('main.csv')\n",
    "\n",
    "# Preprocess the text\n",
    "def preprocess(text):\n",
    "    return preprocess_string(text)\n",
    "\n",
    "# Apply preprocessing\n",
    "processed_docs = data['cleaned'].map(preprocess)\n",
    "\n",
    "# Create a dictionary and corpus needed for Topic Modeling\n",
    "dictionary = corpora.Dictionary(processed_docs)\n",
    "corpus = [dictionary.doc2bow(doc) for doc in processed_docs]\n",
    "\n",
    "# LDA model\n",
    "lda_model = models.LdaModel(corpus, num_topics=5, id2word=dictionary, passes=15, random_state=42)\n",
    "\n",
    "# Display the topics\n",
    "topics = lda_model.print_topics(num_words=5)\n",
    "for topic in topics:\n",
    "    print(topic)\n",
    "\n",
    "# Visualize the topics\n",
    "pyLDAvis.enable_notebook()\n",
    "# Visualize the topics with adjusted size\n",
    "lda_display = gensimvis.prepare(lda_model, corpus, dictionary, sort_topics=False, \n",
    "                                plot_opts={'width': 800, 'height': 600})  # Adjust width and height as needed\n",
    "pyLDAvis.display(lda_display)"
   ]
  }
 ],
 "metadata": {
  "kernelspec": {
   "display_name": "base",
   "language": "python",
   "name": "python3"
  },
  "language_info": {
   "codemirror_mode": {
    "name": "ipython",
    "version": 3
   },
   "file_extension": ".py",
   "mimetype": "text/x-python",
   "name": "python",
   "nbconvert_exporter": "python",
   "pygments_lexer": "ipython3",
   "version": "3.9.12"
  }
 },
 "nbformat": 4,
 "nbformat_minor": 2
}
